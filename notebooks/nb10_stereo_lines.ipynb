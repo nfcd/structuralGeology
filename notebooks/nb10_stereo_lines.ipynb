{
 "cells": [
  {
   "cell_type": "markdown",
   "metadata": {},
   "source": [
    "# Notebook 10: Plotting lines on the stereonet\n",
    "\n",
    "The stereonet is a circular net used by geologists to represent orientation data in two dimensions. In the stereonet, a line plots as a point. There are two types of stereonets: The equal angle or Wulff stereonet, and the equal area or Schmidt stereonet. The distance from the center of the stereonet to the point representing the line is given by the following equations:\n",
    "\n",
    "<div align=\"center\">\n",
    "\n",
    "Equal angle stereonet: $x=R \\tan \\left(45^{\\circ}-\\frac{\\phi}{2}\\right)$\n",
    "\n",
    "Equal area stereonet: $x=R \\sqrt{2} \\sin \\left(45^{\\circ}-\\frac{\\phi}{2}\\right)$\n",
    "\n",
    "</div>\n",
    "\n",
    "where $R$ is the radius of the net, and $\\phi$ is the plunge of the line. The coordinates of the point can be calculated as follows:\n",
    "\n",
    "$$xp = x * \\sin(\\text{trend})$$\n",
    "\n",
    "$$yp = x * \\cos(\\text{trend})$$"
   ]
  },
  {
   "cell_type": "markdown",
   "metadata": {},
   "source": [
    "## Python function\n",
    "\n",
    "The following function computes the coordinates of a line in an equal angle or equal area stereonet."
   ]
  },
  {
   "cell_type": "code",
   "execution_count": 1,
   "metadata": {},
   "outputs": [],
   "source": [
    "# this makes visible our functions folder\n",
    "import sys, os\n",
    "sys.path.append(os.path.abspath(\"../functions\"))"
   ]
  },
  {
   "cell_type": "code",
   "execution_count": 2,
   "metadata": {},
   "outputs": [],
   "source": [
    "# st_coord_line function: this function is also in functions/st_coord_line.py\n",
    "\n",
    "import math\n",
    "from zero_twopi import zero_twopi\n",
    "\n",
    "def st_coord_line(trd,plg,stype):\n",
    "\t\"\"\"\n",
    "\tst_coord_line computes the coordinates of a line\n",
    "\tin an equal angle or equal area stereonet of unit radius\n",
    "\t\n",
    "\ttrd = trend of line\n",
    "\tplg = plunge of line\n",
    "\tstype = Stereonet type: 0 = equal angle, 1 = equal area\n",
    "\txp and yp: Coordinates of the line in the stereonet\n",
    "\t\n",
    "\tNOTE: trend and plunge should be entered in radians\n",
    "\t\n",
    "\tPython function translated from the Matlab function\n",
    "\tStCoordLine in Allmendinger et al. (2012)\n",
    "\t\"\"\"\n",
    "\t# Take care of negative plunges\n",
    "\tif plg < 0:\n",
    "\t\ttrd = zero_twopi(trd+math.pi)\n",
    "\t\tplg = -plg\n",
    "\t\n",
    "\t# Equal angle stereonet\n",
    "\tif stype == 0:\n",
    "\t\tx = math.tan(math.pi/4 - plg/2)\n",
    "\t# Equal area stereonet\n",
    "\telif stype == 1:\n",
    "\t\tx = math.sqrt(2) * math.sin(math.pi/4 - plg/2)\n",
    "\t\n",
    "\t# Compute coordinates\n",
    "\txp = x * math.sin(trd)\n",
    "\typ = x * math.cos(trd)\n",
    "\t\n",
    "\treturn xp, yp"
   ]
  },
  {
   "cell_type": "markdown",
   "metadata": {},
   "source": [
    "## Application\n",
    "\n",
    "Now let's plot a line in an equal angle and an equal area stereonet. The code below plots the stereonets side by side and uses sliders to set the trend and plunge of the line."
   ]
  },
  {
   "cell_type": "code",
   "execution_count": 3,
   "metadata": {},
   "outputs": [
    {
     "data": {
      "application/vnd.jupyter.widget-view+json": {
       "model_id": "bc3b55feda824d92b6bff24ee093c6cb",
       "version_major": 2,
       "version_minor": 0
      },
      "text/plain": [
       "interactive(children=(IntSlider(value=180, description='trend', max=360), IntSlider(value=45, description='plu…"
      ]
     },
     "metadata": {},
     "output_type": "display_data"
    }
   ],
   "source": [
    "def plot_line(trend, plunge):\n",
    "    \"\"\"\n",
    "    Plots a line in an equal angle (left) and equal area (right) stereonet\n",
    "\n",
    "    Input:\n",
    "    trend = trend of line\n",
    "    plunge = plunge of line\n",
    "\n",
    "    Output:\n",
    "    None\n",
    "    \"\"\"\n",
    "    # import necessary libraries\n",
    "    import numpy as np\n",
    "    import matplotlib.pyplot as plt\n",
    "\n",
    "    # create a figure with two subplots side by side\n",
    "    fig, ax = plt.subplots(1, 2, figsize=(12, 6))\n",
    "\n",
    "    # coordinates of primitive circle, radius = 1\n",
    "    theta = np.radians(np.arange(0, 361, 1))\n",
    "    x_c = np.cos(theta)\n",
    "    y_c = np.sin(theta)\n",
    "\n",
    "    # plot the primitive circle and the line\n",
    "    for i in range(2):\n",
    "        # primitive and center\n",
    "        ax[i].plot(x_c, y_c, 'k')\n",
    "        ax[i].plot(0, 0, 'k+')\n",
    "        # line\n",
    "        xp, yp = st_coord_line(np.radians(trend), np.radians(plunge), i)\n",
    "        ax[i].plot(xp, yp, 'ro')\n",
    "\n",
    "        # axes settings\n",
    "        ax[i].set_aspect('equal')\n",
    "        ax[i].set_xlim(-1.1, 1.1)\n",
    "        ax[i].set_ylim(-1.1, 1.1)\n",
    "        ax[i].axis('off')\n",
    "        ax[i].set_title(['Equal angle', 'Equal area'][i] + ' stereonet')\n",
    "    \n",
    "    plt.show()\n",
    "\n",
    "# use ipywidgets to interact with the function\n",
    "from ipywidgets import interact\n",
    "interact(plot_line, trend=(0, 360, 1), plunge=(0, 90, 1));"
   ]
  },
  {
   "cell_type": "markdown",
   "metadata": {},
   "source": [
    "This is a nice way to see where a line plots in a stereonet. Changing the trend of the line moves the point around the circle. Increasing the plunge of the line moves the point towards the center of the stereonet, and decreasing it moves the point towards the primitive."
   ]
  }
 ],
 "metadata": {
  "kernelspec": {
   "display_name": "base",
   "language": "python",
   "name": "python3"
  },
  "language_info": {
   "codemirror_mode": {
    "name": "ipython",
    "version": 3
   },
   "file_extension": ".py",
   "mimetype": "text/x-python",
   "name": "python",
   "nbconvert_exporter": "python",
   "pygments_lexer": "ipython3",
   "version": "3.11.9"
  }
 },
 "nbformat": 4,
 "nbformat_minor": 2
}
