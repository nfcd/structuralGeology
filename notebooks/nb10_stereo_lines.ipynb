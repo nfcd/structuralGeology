{
 "cells": [
  {
   "cell_type": "markdown",
   "metadata": {},
   "source": [
    "# Notebook 10: Plotting lines on the stereonet\n",
    "\n",
    "The stereonet is a circular net used to represent 3D orientation data in 2D. Basically, the intersection of a line or a plane with a sphere can be projected to a horizontal plane. There are two types of stereonets: The equal angle or Wulff stereonet where the projection plane is the equator, and the equal area or Schmidt stereonet where the projection plane is at the base of the sphere.\n",
    "\n",
    "A line intersects the sphere at a point and plots on the stereonet as a point. The distance from the center of the stereonet to the point is given by the following equations:\n",
    "\n",
    "<div align=\"center\">\n",
    "\n",
    "Equal angle stereonet: $x=R \\tan \\left(45^{\\circ}-\\frac{\\phi}{2}\\right)$\n",
    "\n",
    "Equal area stereonet: $x=R \\sqrt{2} \\sin \\left(45^{\\circ}-\\frac{\\phi}{2}\\right)$\n",
    "\n",
    "</div>\n",
    "\n",
    "where $R$ is the radius of the net, and $\\phi$ is the plunge of the line. The coordinates of the point can be calculated as follows:\n",
    "\n",
    "$$xp = x * \\sin(\\text{trend})$$\n",
    "\n",
    "$$yp = x * \\cos(\\text{trend})$$\n",
    "\n",
    "where trend is the trend of the line."
   ]
  },
  {
   "cell_type": "markdown",
   "metadata": {},
   "source": [
    "## Python function\n",
    "\n",
    "Function [st_coord_line](../functions/st_coord_line.py) computes the coordinates of a line on an equal angle or equal area stereonet."
   ]
  },
  {
   "cell_type": "markdown",
   "metadata": {},
   "source": [
    "## Application\n",
    "\n",
    "Now let's plot a line on an equal angle and an equal area stereonet. The code below plots the stereonets side by side and allows setting the trend and plunge of the line interactively using sliders."
   ]
  },
  {
   "cell_type": "code",
   "execution_count": 1,
   "metadata": {},
   "outputs": [
    {
     "data": {
      "application/vnd.jupyter.widget-view+json": {
       "model_id": "b762d861b5934afd91e9db940369070b",
       "version_major": 2,
       "version_minor": 0
      },
      "text/plain": [
       "interactive(children=(IntSlider(value=90, description='trend', max=360), IntSlider(value=45, description='plun…"
      ]
     },
     "metadata": {},
     "output_type": "display_data"
    }
   ],
   "source": [
    "# this makes visible our functions folder\n",
    "import sys, os\n",
    "sys.path.append(os.path.abspath(\"../functions\"))\n",
    "\n",
    "# import our function\n",
    "from st_coord_line import st_coord_line\n",
    "\n",
    "# import necessary libraries\n",
    "import numpy as np\n",
    "import matplotlib.pyplot as plt\n",
    "from ipywidgets import interact\n",
    "\n",
    "def plot_line(trend=90, plunge=45):\n",
    "    \"\"\"\n",
    "    Plots a line on an equal angle (left) and equal area (right) stereonet\n",
    "\n",
    "    Input: In degrees\n",
    "    trend = trend of line\n",
    "    plunge = plunge of line\n",
    "\n",
    "    Output:\n",
    "    None\n",
    "    \"\"\"\n",
    "    # trend and plunge in radians\n",
    "    trd = np.radians(trend)\n",
    "    plg = np.radians(plunge)\n",
    "\n",
    "    # create a figure with two subplots side by side\n",
    "    fig, ax = plt.subplots(1, 2, figsize=(12, 6))\n",
    "\n",
    "    # coordinates of primitive circle, radius = 1\n",
    "    theta = np.radians(np.arange(0, 361, 1))\n",
    "    x_c = np.cos(theta)\n",
    "    y_c = np.sin(theta)\n",
    "\n",
    "    # plot the primitive circle and the line\n",
    "    for i in range(2):\n",
    "        # primitive and center\n",
    "        ax[i].plot(x_c, y_c, 'k')\n",
    "        ax[i].plot(0, 0, 'k+')\n",
    "        \n",
    "        # line\n",
    "        xp, yp = st_coord_line(trd, plg, i)\n",
    "        ax[i].plot(xp, yp, 'ro')\n",
    "\n",
    "        # axes settings\n",
    "        ax[i].set_aspect('equal')\n",
    "        ax[i].set_xlim(-1.1, 1.1)\n",
    "        ax[i].set_ylim(-1.1, 1.1)\n",
    "        ax[i].axis('off')\n",
    "        ax[i].set_title(['Equal angle', 'Equal area'][i] + ' stereonet')\n",
    "    \n",
    "    plt.show()\n",
    "\n",
    "# use interact with the function\n",
    "interact(plot_line, trend=(0, 360, 1), plunge=(0, 90, 1));"
   ]
  },
  {
   "cell_type": "markdown",
   "metadata": {},
   "source": [
    "This is a nice way to see where a line plots on a stereonet. Changing the trend of the line moves the point around the circle. Increasing the plunge of the line moves the point towards the center of the stereonet, and decreasing it moves the point towards the primitive."
   ]
  }
 ],
 "metadata": {
  "kernelspec": {
   "display_name": "base",
   "language": "python",
   "name": "python3"
  },
  "language_info": {
   "codemirror_mode": {
    "name": "ipython",
    "version": 3
   },
   "file_extension": ".py",
   "mimetype": "text/x-python",
   "name": "python",
   "nbconvert_exporter": "python",
   "pygments_lexer": "ipython3",
   "version": "3.11.5"
  }
 },
 "nbformat": 4,
 "nbformat_minor": 2
}
