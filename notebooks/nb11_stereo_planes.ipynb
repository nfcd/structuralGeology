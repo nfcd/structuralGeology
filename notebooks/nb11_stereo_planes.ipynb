{
 "cells": [
  {
   "cell_type": "markdown",
   "metadata": {},
   "source": [
    "# Notebook 11: Plotting planes on the stereonet\n",
    "\n",
    "Planes passing through the center of the sphere intersect the sphere along great circles. These are more difficult to draw on the stereonet, but fortunately the rotation routine we covered in notebook 9 provides a simple and elegant way to do it. To draw a great circle, we just need to rotate the strike line of the plane about the pole to the plane, in fixed increments (e.g., 1°) until completing 180°. These incrementally rotated lines describe the path of the great circle."
   ]
  },
  {
   "cell_type": "markdown",
   "metadata": {},
   "source": [
    "## Python function\n",
    "\n",
    "For a plane of a given strike and dip (RHR), function [great_circle](../functions/great_circle.py) returns the coordinates of the great circle on an equal angle or equal area stereonet."
   ]
  },
  {
   "cell_type": "markdown",
   "metadata": {},
   "source": [
    "## Application:\n",
    "\n",
    "Now let's plot a plane and the pole to the plane on an equal angle and an equal area stereonet. The code below plots the stereonets side by side and allows setting the strike and dip of the plane interactively using sliders."
   ]
  },
  {
   "cell_type": "code",
   "execution_count": 1,
   "metadata": {},
   "outputs": [
    {
     "data": {
      "application/vnd.jupyter.widget-view+json": {
       "model_id": "5d41b2d3bb3d45e7afb555c8f61d0da6",
       "version_major": 2,
       "version_minor": 0
      },
      "text/plain": [
       "interactive(children=(IntSlider(value=0, description='strike', max=360), IntSlider(value=45, description='dip'…"
      ]
     },
     "metadata": {},
     "output_type": "display_data"
    }
   ],
   "source": [
    "# this makes visible our functions folder\n",
    "import sys, os\n",
    "sys.path.append(os.path.abspath(\"../functions\"))\n",
    "\n",
    "# import our function\n",
    "from st_coord_line import st_coord_line\n",
    "from pole import pole_from_plane\n",
    "from great_circle import great_circle\n",
    "\n",
    "# import necessary libraries\n",
    "import numpy as np\n",
    "import matplotlib.pyplot as plt\n",
    "from ipywidgets import interact\n",
    "\n",
    "def plot_plane(strike=0, dip=45):\n",
    "    \"\"\"\n",
    "    Plots a plane and the pole to the plane \n",
    "    on an equal angle (left) and equal area (right) stereonet\n",
    "\n",
    "    Input follows a RHR convention:\n",
    "    strike = strike of the plane\n",
    "    dip = dip of the plane\n",
    "\n",
    "    Output:\n",
    "    None\n",
    "    \"\"\"\n",
    "    # strike and dip in radians\n",
    "    strr = np.radians(strike)\n",
    "    dipr = np.radians(dip)\n",
    "\n",
    "    # create a figure with two subplots side by side\n",
    "    fig, ax = plt.subplots(1, 2, figsize=(12, 6))\n",
    "\n",
    "    # coordinates of primitive circle, radius = 1\n",
    "    theta = np.radians(np.arange(0, 361, 1))\n",
    "    x_c = np.cos(theta)\n",
    "    y_c = np.sin(theta)\n",
    "\n",
    "    # plot the primitive circle and the line\n",
    "    for i in range(2):\n",
    "        # primitive and center\n",
    "        ax[i].plot(x_c, y_c, 'k')\n",
    "        ax[i].plot(0, 0, 'k+')\n",
    "        \n",
    "        # pole to plane\n",
    "        trend, plunge = pole_from_plane(strr, dipr)\n",
    "        xp, yp = st_coord_line(trend, plunge, i)\n",
    "        ax[i].plot(xp, yp, 'ro')\n",
    "        \n",
    "        # plane\n",
    "        path = great_circle(np.radians(strike), np.radians(dip), i)\n",
    "        ax[i].plot(path[:,0], path[:,1], 'r-', linewidth=2)\n",
    "\n",
    "        # axes settings\n",
    "        ax[i].set_aspect('equal')\n",
    "        ax[i].set_xlim(-1.1, 1.1)\n",
    "        ax[i].set_ylim(-1.1, 1.1)\n",
    "        ax[i].axis('off')\n",
    "        ax[i].set_title(['Equal angle', 'Equal area'][i] + ' stereonet')\n",
    "    \n",
    "    plt.show()\n",
    "\n",
    "# interact with the function\n",
    "interact(plot_plane, strike=(0, 360, 1), dip=(0, 90, 1));"
   ]
  },
  {
   "cell_type": "markdown",
   "metadata": {},
   "source": [
    "This is a fantastic way to illustrate how a plane and its pole plot on a stereonet 😀"
   ]
  }
 ],
 "metadata": {
  "kernelspec": {
   "display_name": "base",
   "language": "python",
   "name": "python3"
  },
  "language_info": {
   "codemirror_mode": {
    "name": "ipython",
    "version": 3
   },
   "file_extension": ".py",
   "mimetype": "text/x-python",
   "name": "python",
   "nbconvert_exporter": "python",
   "pygments_lexer": "ipython3",
   "version": "3.11.5"
  }
 },
 "nbformat": 4,
 "nbformat_minor": 2
}
