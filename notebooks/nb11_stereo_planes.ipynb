{
 "cells": [
  {
   "cell_type": "markdown",
   "metadata": {},
   "source": [
    "# Notebook 11: Plotting planes on the stereonet\n",
    "\n",
    "Planes passing through the center of the sphere intersect the sphere along great circles. These are more difficult to draw on the stereonet, but fortunately the rotation routine we covered in notebook 9 provides a simple and elegant way to do it. To draw a great circle, we just need to rotate the strike line of the plane about the pole to the plane, in fixed increments (e.g., 1°) until completing 180°. These incrementally rotated lines describe the path of the great circle."
   ]
  },
  {
   "cell_type": "markdown",
   "metadata": {},
   "source": [
    "## Python function\n",
    "\n",
    "For a plane of a given strike and dip (RHR), the function below returns the coordinates of the great circle on an equal angle or equal area stereonet."
   ]
  },
  {
   "cell_type": "code",
   "execution_count": 1,
   "metadata": {},
   "outputs": [],
   "source": [
    "# this makes visible our functions folder\n",
    "import sys, os\n",
    "sys.path.append(os.path.abspath(\"../functions\"))"
   ]
  },
  {
   "cell_type": "code",
   "execution_count": 2,
   "metadata": {},
   "outputs": [],
   "source": [
    "# great_circle function: this function is also in functions/great_circle.py\n",
    "\n",
    "import numpy as np\n",
    "from pole import pole_from_plane\n",
    "from rotate import rotate\n",
    "from st_coord_line import st_coord_line\n",
    "\n",
    "def great_circle(strike,dip,stype):\n",
    "\t\"\"\"\n",
    "\tgreat_circle computes the great circle path of a plane\n",
    "\ton an equal angle or equal area stereonet of unit radius\n",
    "\t\n",
    "\tstrike = strike of plane\n",
    "\tdip = dip of plane\n",
    "\tstype = Stereonet type: 0 = equal angle, 1 = equal area\n",
    "\tpath = x and y coordinates of points in great circle path\n",
    "\t\n",
    "\tNOTE: strike and dip should be entered in radians\n",
    "\t\t\tand follow the RHR convention\n",
    "\t\n",
    "\tPython function translated from the Matlab function\n",
    "\tgreat_circle in Allmendinger et al. (2012)\n",
    "\t\"\"\"\n",
    "\tpi = np.pi\n",
    "\t# Compute the pole to the plane. This will be the axis of\n",
    "\t# rotation to make the great circle\n",
    "\ttrda, plga = pole_from_plane(strike,dip)\n",
    "\t\n",
    "\t# Now pick the strike line at the intersection of the\n",
    "\t# great circle with the primitive of the stereonet\n",
    "\ttrd, plg = strike, 0.0\n",
    "\t\n",
    "\t# To make the great circle, rotate the line 180 degrees\n",
    "\t# in increments of 1 degree\n",
    "\trot = np.radians(np.arange(0,181,1))\n",
    "\tpath = np.zeros((rot.shape[0],2))\n",
    "\t\n",
    "\tfor i in range(rot.size):\n",
    "\t# Avoid joining ends of path\n",
    "\t\tif rot[i] == pi:\n",
    "\t\t\trot[i] = rot[i] * 0.9999\n",
    "\t\t# Rotate line\n",
    "\t\trtrd, rplg = rotate(trda,plga,rot[i],trd,plg,\"a\")\n",
    "\t\t# Calculate stereonet coordinates of rotated line\n",
    "\t\t# and add to great circle path\n",
    "\t\tpath[i,0], path[i,1] = st_coord_line(rtrd,rplg,stype)\n",
    "\t\n",
    "\treturn path"
   ]
  },
  {
   "cell_type": "markdown",
   "metadata": {},
   "source": [
    "## Application:\n",
    "\n",
    "Now let's plot a plane and the pole to the plane on an equal angle and an equal area stereonet. The code below plots the stereonets side by side and allows setting the strike and dip of the plane interactively using sliders."
   ]
  },
  {
   "cell_type": "code",
   "execution_count": 3,
   "metadata": {},
   "outputs": [
    {
     "data": {
      "application/vnd.jupyter.widget-view+json": {
       "model_id": "2fdd2a8926f64689a4286614bd203070",
       "version_major": 2,
       "version_minor": 0
      },
      "text/plain": [
       "interactive(children=(IntSlider(value=180, description='strike', max=360), IntSlider(value=45, description='di…"
      ]
     },
     "metadata": {},
     "output_type": "display_data"
    }
   ],
   "source": [
    "def plot_plane(strike, dip):\n",
    "    \"\"\"\n",
    "    Plots a plane and the pole to the plane \n",
    "    on an equal angle (left) and equal area (right) stereonet\n",
    "\n",
    "    Input follows a RHR convention:\n",
    "    strike = strike of the plane\n",
    "    dip = dip of the plane\n",
    "\n",
    "    Output:\n",
    "    None\n",
    "    \"\"\"\n",
    "    # import necessary libraries\n",
    "    import matplotlib.pyplot as plt\n",
    "\n",
    "    # create a figure with two subplots side by side\n",
    "    fig, ax = plt.subplots(1, 2, figsize=(12, 6))\n",
    "\n",
    "    # coordinates of primitive circle, radius = 1\n",
    "    theta = np.radians(np.arange(0, 361, 1))\n",
    "    x_c = np.cos(theta)\n",
    "    y_c = np.sin(theta)\n",
    "\n",
    "    # plot the primitive circle and the line\n",
    "    for i in range(2):\n",
    "        # primitive and center\n",
    "        ax[i].plot(x_c, y_c, 'k')\n",
    "        ax[i].plot(0, 0, 'k+')\n",
    "        \n",
    "        # pole to plane\n",
    "        trend, plunge = pole_from_plane(np.radians(strike), np.radians(dip))\n",
    "        xp, yp = st_coord_line(trend, plunge, i)\n",
    "        ax[i].plot(xp, yp, 'ro')\n",
    "        \n",
    "        # plane\n",
    "        path = great_circle(np.radians(strike), np.radians(dip), i)\n",
    "        ax[i].plot(path[:,0], path[:,1], 'r-', linewidth=2)\n",
    "\n",
    "        # axes settings\n",
    "        ax[i].set_aspect('equal')\n",
    "        ax[i].set_xlim(-1.1, 1.1)\n",
    "        ax[i].set_ylim(-1.1, 1.1)\n",
    "        ax[i].axis('off')\n",
    "        ax[i].set_title(['Equal angle', 'Equal area'][i] + ' stereonet')\n",
    "    \n",
    "    plt.show()\n",
    "\n",
    "# use ipywidgets to interact with the function\n",
    "from ipywidgets import interact\n",
    "interact(plot_plane, strike=(0, 360, 1), dip=(0, 90, 1));"
   ]
  },
  {
   "cell_type": "markdown",
   "metadata": {},
   "source": [
    "This is a fantastic way to illustrate how a plane and its pole plot on a stereonet 😀"
   ]
  }
 ],
 "metadata": {
  "kernelspec": {
   "display_name": "base",
   "language": "python",
   "name": "python3"
  },
  "language_info": {
   "codemirror_mode": {
    "name": "ipython",
    "version": 3
   },
   "file_extension": ".py",
   "mimetype": "text/x-python",
   "name": "python",
   "nbconvert_exporter": "python",
   "pygments_lexer": "ipython3",
   "version": "3.11.9"
  }
 },
 "nbformat": 4,
 "nbformat_minor": 2
}
