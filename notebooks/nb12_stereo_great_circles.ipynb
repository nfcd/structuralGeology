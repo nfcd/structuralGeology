{
 "cells": [
  {
   "cell_type": "markdown",
   "metadata": {},
   "source": [
    "# Notebook 12: Plotting small circles on the stereonet\n",
    "\n",
    "A plane that does not pass through the center of the sphere, intersects the sphere along a small circle. Small circles can also be plotted on the stereonet, by rotating incrementally a line. To draw a small circle, we just need to rotate a line about the axis of the small circle in fixed increments (e.g., 1°) until completing 360°. Any line making an angle less than 90° with the axis of rotation will trace a cone, which will plot on the stereonet as a small circle."
   ]
  },
  {
   "cell_type": "markdown",
   "metadata": {},
   "source": [
    "## Python function\n",
    "\n",
    "For a small circle with an axis of a given orientation (trend and plunge) and apical angle, the following function returns the coordinates of the small circle on an equal angle or equal area stereonet."
   ]
  },
  {
   "cell_type": "code",
   "execution_count": 1,
   "metadata": {},
   "outputs": [],
   "source": [
    "# this makes visible our functions folder\n",
    "import sys, os\n",
    "sys.path.append(os.path.abspath(\"../functions\"))"
   ]
  },
  {
   "cell_type": "code",
   "execution_count": 2,
   "metadata": {},
   "outputs": [],
   "source": [
    "# small_circle function: this function is also in functions/small_circle.py\n",
    "\n",
    "import numpy as np\n",
    "from rotate import rotate\n",
    "from st_coord_line import st_coord_line\n",
    "from zero_twopi import zero_twopi\n",
    "\n",
    "def small_circle(trda,plga,cangle,stype):\n",
    "\t\"\"\"\n",
    "\tsmall_circle computes the paths of a small circle defined\n",
    "\tby its axis and cone angle, on an equal angle or equal\n",
    "\tarea stereonet of unit radius\n",
    "\t\n",
    "\ttrda = trend of axis\n",
    "\tplga = plunge of axis\n",
    "\tcangle = cone angle\n",
    "\tstype = Stereonet type: 0 = equal angle, 1 = equal area\n",
    "\tpath1 and path2 = vectors with the x and y coordinates\n",
    "\t\tof the points in the small circle paths\n",
    "\tnp1 and np2 = Number of points in path1 and path2\n",
    "\t\n",
    "\tNOTE: All angles should be in radians\n",
    "\t\n",
    "\tPython function translated from the Matlab function\n",
    "\tSmallCircle in Allmendinger et al. (2012)\n",
    "\t\"\"\"\n",
    "\tpi = np.pi\n",
    "\t# Find where to start the small circle\n",
    "\tif (plga - cangle) >= 0.0:\n",
    "\t\ttrd = trda\n",
    "\t\tplg = plga - cangle\n",
    "\telse:\n",
    "\t\tif plga == pi/2.0:\n",
    "\t\t\tplga = plga * 0.9999\n",
    "\t\tangle = np.arccos(np.cos(cangle)/np.cos(plga))\n",
    "\t\ttrd = zero_twopi(trda+angle)\n",
    "\t\tplg = 0.0\n",
    "\t\n",
    "\t# To make the small circle, rotate the starting line\n",
    "\t# 360 degrees in increments of 1 degree\n",
    "\trot = np.radians(np.arange(0,361,1))\n",
    "\tpath1 = np.zeros((rot.shape[0],2))\n",
    "\tpath2 = np.zeros((rot.shape[0],2))\n",
    "\tnp1 = np2 = 0\n",
    "\tfor i in range(rot.size):\n",
    "\t\t# Rotate line: The line is considered as a vector\n",
    "\t\trtrd , rplg = rotate(trda,plga,rot[i],trd,plg,\"v\")\n",
    "\t\t# Calculate stereonet coordinates and add to path\n",
    "\t\t# If rotated plunge is positive add to 1st path\n",
    "\t\tif rplg >= 0.0:\n",
    "\t\t\tpath1[np1,0] , path1[np1,1] = st_coord_line(rtrd,rplg,stype)\n",
    "\t\t\tnp1 += 1\n",
    "\t\t# Else add to 2nd path\n",
    "\t\telse:\n",
    "\t\t\tpath2[np2,0] , path2[np2,1] = st_coord_line(rtrd,rplg,stype)\n",
    "\t\t\tnp2 += 1\n",
    "\t\n",
    "\treturn path1, path2, np1, np2"
   ]
  },
  {
   "cell_type": "markdown",
   "metadata": {},
   "source": [
    "## Application\n",
    "\n",
    "Now let's plot a small circle on an equal angle and an equal area stereonet. The code below plots the stereonets side by side and allows setting the trend and plunge of the axis, and the apical angle interactively using sliders."
   ]
  },
  {
   "cell_type": "code",
   "execution_count": 3,
   "metadata": {},
   "outputs": [
    {
     "data": {
      "application/vnd.jupyter.widget-view+json": {
       "model_id": "bd37edfadbd74a4084e204d5c6b68906",
       "version_major": 2,
       "version_minor": 0
      },
      "text/plain": [
       "interactive(children=(IntSlider(value=180, description='trend', max=360), IntSlider(value=45, description='plu…"
      ]
     },
     "metadata": {},
     "output_type": "display_data"
    }
   ],
   "source": [
    "def plot_small_circle(trend, plunge, apical_angle):\n",
    "    \"\"\"\n",
    "    Plots a small circle on an equal angle (left) and equal area (right) stereonet\n",
    "\n",
    "    Input:\n",
    "    trend = trend of axis\n",
    "    plunge = plunge of axis\n",
    "    apical_angle = cone angle\n",
    "\n",
    "    Output:\n",
    "    None\n",
    "    \"\"\"\n",
    "    # import necessary libraries\n",
    "    import matplotlib.pyplot as plt\n",
    "\n",
    "    # create a figure with two subplots side by side\n",
    "    fig, ax = plt.subplots(1, 2, figsize=(12, 6))\n",
    "\n",
    "    # coordinates of primitive circle, radius = 1\n",
    "    theta = np.radians(np.arange(0, 361, 1))\n",
    "    x_c = np.cos(theta)\n",
    "    y_c = np.sin(theta)\n",
    "\n",
    "    # plot the primitive circle and the line\n",
    "    for i in range(2):\n",
    "        # primitive and center\n",
    "        ax[i].plot(x_c, y_c, 'k')\n",
    "        ax[i].plot(0, 0, 'k+')\n",
    "        \n",
    "        # small circle\n",
    "        path1, path2, np1, np2 = small_circle(np.radians(trend), \n",
    "                                              np.radians(plunge), np.radians(apical_angle), i)\n",
    "        ax[i].plot(path1[:np1,0], path1[:np1,1], 'r-')\n",
    "        if np2 > 0:\n",
    "            ax[i].plot(path2[:np2,0], path2[:np2,1], 'r-')\n",
    "        \n",
    "        # axes settings\n",
    "        ax[i].set_aspect('equal')\n",
    "        ax[i].set_xlim(-1.1, 1.1)\n",
    "        ax[i].set_ylim(-1.1, 1.1)\n",
    "        ax[i].axis('off')\n",
    "        ax[i].set_title(['Equal angle', 'Equal area'][i] + ' stereonet')\n",
    "    \n",
    "    plt.show()\n",
    "\n",
    "# use ipywidgets to interact with the function\n",
    "from ipywidgets import interact\n",
    "interact(plot_small_circle, trend=(0, 360, 1), plunge=(0, 90, 1), apical_angle=(0, 90, 1));"
   ]
  },
  {
   "cell_type": "markdown",
   "metadata": {},
   "source": [
    "As you can see, on the equal angle stereonet a small circle plots as a circle everywhere, but its size increases with decreasing axis plunge. On the equal area stereonet, a small circle does not plot as a circle everywhere but just when the axis is vertical; the size of the small circle howewer is everywhere the same."
   ]
  }
 ],
 "metadata": {
  "kernelspec": {
   "display_name": "base",
   "language": "python",
   "name": "python3"
  },
  "language_info": {
   "codemirror_mode": {
    "name": "ipython",
    "version": 3
   },
   "file_extension": ".py",
   "mimetype": "text/x-python",
   "name": "python",
   "nbconvert_exporter": "python",
   "pygments_lexer": "ipython3",
   "version": "3.11.9"
  }
 },
 "nbformat": 4,
 "nbformat_minor": 2
}
