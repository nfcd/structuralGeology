{
 "cells": [
  {
   "cell_type": "markdown",
   "metadata": {},
   "source": [
    "# Notebook 12: Small circles on the stereonet\n",
    "\n",
    "A plane that does not pass through the center of the sphere, intersects the sphere along a small circle. Small circles can also be plotted on the stereonet, by rotating incrementally a line. To draw a small circle, we just need to rotate a line about the axis of the small circle in fixed increments (e.g., 1°) until completing 360°. Any line making an angle less than 90° with the axis of rotation will trace a cone, which will plot on the stereonet as a small circle."
   ]
  },
  {
   "cell_type": "markdown",
   "metadata": {},
   "source": [
    "## Python function\n",
    "\n",
    "For a small circle with an axis of a given orientation (trend and plunge) and apical angle, function [small_circle](../functions/small_circle.py) returns the coordinates of the small circle on an equal angle or equal area stereonet."
   ]
  },
  {
   "cell_type": "markdown",
   "metadata": {},
   "source": [
    "## Application\n",
    "\n",
    "Now let's plot a small circle on an equal angle and an equal area stereonet. The code below plots the stereonets side by side and allows setting the trend and plunge of the axis, and the apical angle interactively using sliders."
   ]
  },
  {
   "cell_type": "code",
   "execution_count": 1,
   "metadata": {},
   "outputs": [
    {
     "data": {
      "application/vnd.jupyter.widget-view+json": {
       "model_id": "6e7ca97f2b394c54bef23879f12605b6",
       "version_major": 2,
       "version_minor": 0
      },
      "text/plain": [
       "interactive(children=(IntSlider(value=90, description='trend', max=360), IntSlider(value=45, description='plun…"
      ]
     },
     "metadata": {},
     "output_type": "display_data"
    }
   ],
   "source": [
    "# this makes visible our functions folder\n",
    "import sys, os\n",
    "sys.path.append(os.path.abspath(os.path.join(\"..\", \"functions\")))\n",
    "\n",
    "# import small_circle function\n",
    "from small_circle import small_circle\n",
    "\n",
    "# import other necessary libraries\n",
    "import numpy as np\n",
    "import matplotlib.pyplot as plt\n",
    "from ipywidgets import interact\n",
    "\n",
    "def plot_small_circle(trend=90, plunge=45, apical_angle=10):\n",
    "    \"\"\"\n",
    "    Plots a small circle on an equal angle (left) and equal area (right) stereonet\n",
    "\n",
    "    Input: In degrees\n",
    "    trend = trend of axis\n",
    "    plunge = plunge of axis\n",
    "    apical_angle = cone angle\n",
    "\n",
    "    Output:\n",
    "    None\n",
    "    \"\"\"\n",
    "    # angles in radians\n",
    "    trd = np.radians(trend)\n",
    "    plg = np.radians(plunge)\n",
    "    apc = np.radians(apical_angle)\n",
    "\n",
    "    # create a figure with two subplots side by side\n",
    "    fig, ax = plt.subplots(1, 2, figsize=(12, 6))\n",
    "\n",
    "    # coordinates of primitive circle, radius = 1\n",
    "    theta = np.radians(np.arange(0, 361))\n",
    "    x_c = np.cos(theta)\n",
    "    y_c = np.sin(theta)\n",
    "\n",
    "    # plot the primitive circle and the line\n",
    "    for i in range(2):\n",
    "        # primitive and center\n",
    "        ax[i].plot(x_c, y_c, \"k\")\n",
    "        ax[i].plot(0, 0, \"k+\")\n",
    "        \n",
    "        # small circle\n",
    "        path1, path2, np1, np2 = small_circle(trd, plg, apc, i)\n",
    "        ax[i].plot(path1[:np1,0], path1[:np1,1], \"r-\")\n",
    "        if np2 > 0:\n",
    "            ax[i].plot(path2[:np2,0], path2[:np2,1], \"r-\")\n",
    "        \n",
    "        # axes settings\n",
    "        ax[i].set_aspect(\"equal\")\n",
    "        ax[i].set_xlim(-1.1, 1.1)\n",
    "        ax[i].set_ylim(-1.1, 1.1)\n",
    "        ax[i].axis(\"off\")\n",
    "        ax[i].set_title([\"Equal angle\", \"Equal area\"][i] + \" stereonet\")\n",
    "    \n",
    "    plt.show()\n",
    "\n",
    "# interact with the function\n",
    "interact(plot_small_circle, trend=(0, 360, 1), plunge=(0, 90, 1), apical_angle=(0, 90, 1));"
   ]
  },
  {
   "cell_type": "markdown",
   "metadata": {},
   "source": [
    "As you can see, on the equal angle stereonet a small circle plots as a circle everywhere, but its size increases with decreasing axis plunge. On the equal area stereonet, a small circle does not plot as a circle everywhere but just when the axis is vertical; the size of the small circle howewer is everywhere the same."
   ]
  }
 ],
 "metadata": {
  "kernelspec": {
   "display_name": "base",
   "language": "python",
   "name": "python3"
  },
  "language_info": {
   "codemirror_mode": {
    "name": "ipython",
    "version": 3
   },
   "file_extension": ".py",
   "mimetype": "text/x-python",
   "name": "python",
   "nbconvert_exporter": "python",
   "pygments_lexer": "ipython3",
   "version": "3.11.5"
  }
 },
 "nbformat": 4,
 "nbformat_minor": 2
}
