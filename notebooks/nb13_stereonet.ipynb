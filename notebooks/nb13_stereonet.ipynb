{
 "cells": [
  {
   "cell_type": "markdown",
   "metadata": {},
   "source": [
    "# Notebook 13: A full fledged stereonet\n",
    "\n",
    "We are now in the position to implement a full fledged stereonet that includes the great and small circles defining its grid."
   ]
  },
  {
   "cell_type": "markdown",
   "metadata": {},
   "source": [
    "## Python function 1: View direction\n",
    "\n",
    "Normally, stereonets are displayed looking straight down, with the primitive equal to the horizontal. However, sometimes it is convenient to look at the stereonet in another orientation. For example, one may want to plot data on the plane of a cross section with the view direction perpendicular to the section, or in a down-plunge projection with the view direction parallel to the fold axis. Function [geogr_to_view](../functions/geogr_to_view.py) enables plotting great and small circles on a stereonet of any view direction, by transforming the poles of rotation from NED coordinates to the view direction coordinates."
   ]
  },
  {
   "cell_type": "markdown",
   "metadata": {},
   "source": [
    "## Python function 2: The stereonet\n",
    "\n",
    "We can now plot a full fledged stereonet in any view direction using the function [stereonet](../functions/stereonet.py). "
   ]
  },
  {
   "cell_type": "markdown",
   "metadata": {},
   "source": [
    "## Application:\n",
    "\n",
    "Let\"s plot an equal angle and an equal area stereonet side by side, and let the user interactively choose the view direction using sliders:"
   ]
  },
  {
   "cell_type": "code",
   "execution_count": 1,
   "metadata": {},
   "outputs": [
    {
     "data": {
      "application/vnd.jupyter.widget-view+json": {
       "model_id": "fdb826a3596c4872ab438084e141a370",
       "version_major": 2,
       "version_minor": 0
      },
      "text/plain": [
       "interactive(children=(IntSlider(value=0, description='trend_view', max=360), IntSlider(value=90, description='…"
      ]
     },
     "metadata": {},
     "output_type": "display_data"
    }
   ],
   "source": [
    "# this makes visible our functions folder\n",
    "import sys, os\n",
    "sys.path.append(os.path.abspath(os.path.join(\"..\", \"functions\")))\n",
    "\n",
    "# import stereonet function\n",
    "from stereonet import stereonet\n",
    "\n",
    "# import required libraries\n",
    "import numpy as np\n",
    "import matplotlib.pyplot as plt\n",
    "from ipywidgets import interact, fixed\n",
    "\n",
    "def plot_stereonets(trend_view=0,plunge_view=90,interval=10):\n",
    "    \"\"\"\n",
    "    plot_stereonets plots equal angle and equal area\n",
    "    stereonets in any view direction\n",
    "\n",
    "    Input: In degrees\n",
    "    trend_view = trend of view direction \n",
    "    plunge_view = plunge of view direction \n",
    "    interval = grid interval\n",
    "\n",
    "    Returns:\n",
    "    None\n",
    "    \"\"\"\n",
    "    # angles in radians\n",
    "    trdv = np.radians(trend_view)\n",
    "    plgv = np.radians(plunge_view)\n",
    "    intrad = np.radians(interval)\n",
    "    \n",
    "    # figure\n",
    "    fig, ax = plt.subplots(1,2,figsize=(12,6))\n",
    "\n",
    "    # plot stereonets\n",
    "    for i in range(2):\n",
    "        stereonet(trdv,plgv,intrad,i, ax[i])\n",
    "        ax[i].set_title([\"Equal angle\", \"Equal area\"][i] + \" stereonet\")\n",
    "    \n",
    "    plt.show()\n",
    "\n",
    "# interact with the function\n",
    "interact(plot_stereonets, trend_view=(0,360,1), plunge_view=(0,90,1), interval=(2,10,1));"
   ]
  },
  {
   "cell_type": "markdown",
   "metadata": {},
   "source": [
    "Now let's plot in addition some data:"
   ]
  },
  {
   "cell_type": "code",
   "execution_count": 2,
   "metadata": {},
   "outputs": [
    {
     "data": {
      "application/vnd.jupyter.widget-view+json": {
       "model_id": "826ada224e94413899b1f6e191dfe19e",
       "version_major": 2,
       "version_minor": 0
      },
      "text/plain": [
       "interactive(children=(IntSlider(value=0, description='trend_view', max=360), IntSlider(value=90, description='…"
      ]
     },
     "metadata": {},
     "output_type": "display_data"
    }
   ],
   "source": [
    "# import pole_from_plane and plane_from_pole,\n",
    "# st_coord_line, great_circle, small_circle \n",
    "# and geogr_to_view functions\n",
    "from pole import pole_from_plane, plane_from_pole\n",
    "from st_coord_line import st_coord_line\n",
    "from great_circle import great_circle\n",
    "from small_circle import small_circle\n",
    "from geogr_to_view import geogr_to_view\n",
    "\n",
    "def plot_stereonets_and_data(trend_view=0,plunge_view=90,interval=10, lines=[], planes=[], smalls=[]):\n",
    "    \"\"\"\n",
    "    plot_stereonets_and_data plots data on equal angle and equal area\n",
    "    stereonets in any view direction\n",
    "\n",
    "    Input: In degrees and RHR convention\n",
    "    trend_view = trend of view direction \n",
    "    plunge_view = plunge of view direction \n",
    "    interval = grid interval\n",
    "    lines = list of lines (trend, plunge)\n",
    "    planes = list of planes (strike, dip)\n",
    "    smalls = list of small circles (trend, plunge, apical angle)\n",
    "\n",
    "    Returns:\n",
    "    None\n",
    "    \"\"\"\n",
    "    # angles in radians\n",
    "    trdv = np.radians(trend_view)\n",
    "    plgv = np.radians(plunge_view)\n",
    "    intrad = np.radians(interval)\n",
    "    lines = np.radians(lines)\n",
    "    planes = np.radians(planes)\n",
    "    smalls = np.radians(smalls)\n",
    "    \n",
    "    # figure\n",
    "    fig, ax = plt.subplots(1,2,figsize=(12,6))\n",
    "\n",
    "    # plot stereonets and data\n",
    "    for i in range(2):\n",
    "        # stereonets\n",
    "        stereonet(trdv,plgv,intrad,i, ax[i])\n",
    "        ax[i].set_title([\"Equal angle\", \"Equal area\"][i] + \" stereonet\")\n",
    "        # lines\n",
    "        for line in lines:\n",
    "            trd, plg = line\n",
    "            # if not in the default view direction\n",
    "            if trdv != 0.0 or plgv != np.pi/2:\n",
    "                trd, plg = geogr_to_view(trd, plg, trdv, plgv)\n",
    "            xp, yp = st_coord_line(trd, plg, i)\n",
    "            ax[i].plot(xp, yp, \"bo\")\n",
    "        # planes\n",
    "        for plane in planes:\n",
    "            stk, dip = plane\n",
    "            trd, plg = pole_from_plane(stk, dip)\n",
    "            # if not in the default view direction\n",
    "            if trdv != 0.0 or plgv != np.pi/2:\n",
    "                trd, plg = geogr_to_view(stk, dip, trdv, plgv)\n",
    "            stk, dip = plane_from_pole(trd, plg)\n",
    "            path = great_circle(stk, dip, i)\n",
    "            ax[i].plot(path[:,0], path[:,1], \"r-\")\n",
    "        # small circles\n",
    "        for small in smalls:\n",
    "            trd, plg, apc = small\n",
    "            # if not in the default view direction\n",
    "            if trdv != 0.0 or plgv != np.pi/2:\n",
    "                trd, plg = geogr_to_view(trd, plg, trdv, plgv)\n",
    "            path1, path2, np1, np2 = small_circle(trd, plg, apc, i)\n",
    "            ax[i].plot(path1[:np1,0], path1[:np1,1], \"b-\")\n",
    "            if np2 > 0:\n",
    "                ax[i].plot(path2[:np2,0], path2[:np2,1], \"b-\")\n",
    "\n",
    "    plt.show()\n",
    "\n",
    "# data\n",
    "lines = [[0, 45], [90, 30], [180, 60], [270, 75]]\n",
    "planes = [[0, 45], [90, 30], [180, 60], [270, 75]]\n",
    "smalls = [[0, 45, 10], [90, 30, 10], [180, 60, 10], [270, 75, 10]]\n",
    "\n",
    "# interact with the function\n",
    "interact(plot_stereonets_and_data, trend_view=(0,360,1), plunge_view=(0,90,1), \n",
    "         interval=(2,10,1), lines=fixed(lines), planes=fixed(planes), smalls=fixed(smalls));"
   ]
  },
  {
   "cell_type": "markdown",
   "metadata": {},
   "source": [
    "Isn't this fantastic 😀 We have made our own stereonet program!"
   ]
  }
 ],
 "metadata": {
  "kernelspec": {
   "display_name": "base",
   "language": "python",
   "name": "python3"
  },
  "language_info": {
   "codemirror_mode": {
    "name": "ipython",
    "version": 3
   },
   "file_extension": ".py",
   "mimetype": "text/x-python",
   "name": "python",
   "nbconvert_exporter": "python",
   "pygments_lexer": "ipython3",
   "version": "3.11.5"
  }
 },
 "nbformat": 4,
 "nbformat_minor": 2
}
