{
 "cells": [
  {
   "cell_type": "markdown",
   "id": "7aa22b6b",
   "metadata": {},
   "source": [
    "# Notebook 14: Uncertainties\n",
    "\n",
    "Uncertainties are everywhere in geosciences. Everytime we take a measurement, there are uncertainties associated to this measurement, and everytime we look at data (e.g. seismic data), there are uncertainties associated to how these data were acquired, processed, displayed and interpreted.\n",
    "\n",
    "Uncertainties (call them errors if you want) propagate through any calculation where we use measurements (or observations) with errors. If these measurements are statistically independent (they are uncorrelated with the magnitude and error of all other measurements), the general formula to propagate the errors is:\n",
    "\n",
    "$$\\sigma_z=\\sqrt{\\left(\\frac{\\partial z}{\\partial a}\\right)^2\\left(\\sigma_a\\right)^2+\\left(\\frac{\\partial z}{\\partial b}\\right)^2\\left(\\sigma_b\\right)^2+\\left(\\frac{\\partial z}{\\partial c}\\right)^2\\left(\\sigma_c\\right)^2+\\cdots}$$\n",
    "\n",
    "where $z$ is a multi-variable function $z=f(a,b,c,...)$ that depends on the measurements $a$, $b$, $c$, etc. $\\sigma_z$ is the uncertainty of $z$, and $\\sigma_a$, $\\sigma_b$, $\\sigma_c$, etc., are the uncertainty of the measurements.\n",
    "\n",
    "It is easy to calculate the formula above for simple cases (e.g. sum or multiplication of two variables), but it is difficult when the formulas are more complicated, or when we need to use several formulas to get the result.\n",
    "\n",
    "Fortunately in Python, there is a library to deal with uncertainties and propagate errors as in the equation above. This library is called [uncertainties](https://pythonhosted.org/uncertainties/). So if you have not installed `uncertainties`, please do so by running the cell below:"
   ]
  },
  {
   "cell_type": "code",
   "execution_count": null,
   "id": "c7a90fd2",
   "metadata": {},
   "outputs": [],
   "source": [
    "# run this cell if uncertainties is not installed\n",
    "import sys\n",
    "!{sys.executable} -m pip install --upgrade uncertainties"
   ]
  },
  {
   "cell_type": "markdown",
   "id": "ca167fb8",
   "metadata": {},
   "source": [
    "In this notebook, I illustrate the use of the `uncertainties` library using three examples.\n",
    "\n",
    "## Example 1: Bed thickness\n",
    "\n",
    "The first example is problem 4 in Chapter 2 of [Ragan, Structural Geology textbook](https://www.cambridge.org/core/books/structural-geology/4D631885C9FBBCDEF90C555445ED1160#):\n",
    "\n",
    "The orientation of a sandstone unit is 245/35 (right hand rule convention). A horizontal traverse with a bearing of N10E made from the bottom to the top of the unit measured 125 m.\n",
    "\n",
    "- Calculate the thickness of the unit\n",
    "- If the uncertainty in dip is 2°, the uncertainty of the traverse direction is 1°, and the uncertainty in the measured length is 0.5%, what is the uncertainty in the calculated thickness?\n",
    "\n",
    "The figure below shows on map view the variables (measurements) for this problem, and the equation we can use to determine the thickness of the sandstone:\n",
    "\n",
    "<img src=\"../figures/ss_thickness.png\" alt=\"ss_thickness\" width=\"600\" style=\"display: block; margin: 0 auto\"/><br><br>\n",
    "\n",
    "Let's solve first this problem the hard way, by computing the partial derivatives and solving for the error in quadrature formula:"
   ]
  },
  {
   "cell_type": "code",
   "execution_count": 1,
   "id": "c01b31f7",
   "metadata": {},
   "outputs": [
    {
     "name": "stdout",
     "output_type": "stream",
     "text": [
      "Thickness = 58.7 m\n"
     ]
    }
   ],
   "source": [
    "import math # import math\n",
    "\n",
    "rad = 180.0/math.pi # a radian in degrees\n",
    "\n",
    "# Problem 4, chapter 2 of Ragan\n",
    "l = 125 # transect length\n",
    "l_u = l * 0.005 # uncertainty in transect length\n",
    "dip = 35 / rad # dip in radians\n",
    "dip_u = 2 / rad # uncertainty in dip in radians\n",
    "beta = 55 / rad # angle of traverse with strike line in radians\n",
    "beta_u = 1 / rad # uncertainty in beta in radians\n",
    "\n",
    "# compute thickness of bed, Eq. 2.2 of Ragan\n",
    "t = l*math.sin(beta)*math.sin(dip)\n",
    "print(f\"Thickness = {t:.1f} m\")"
   ]
  },
  {
   "cell_type": "code",
   "execution_count": 2,
   "id": "d504dbb7",
   "metadata": {},
   "outputs": [
    {
     "name": "stdout",
     "output_type": "stream",
     "text": [
      "Thickness = 58.7 +/- 3.0 m\n"
     ]
    }
   ],
   "source": [
    "# Compute error in thickness\n",
    "\n",
    "# partial derivatives, here we need to use calculus\n",
    "ptl = math.sin(beta)*math.sin(dip) # partial derivative of t with respect to l\n",
    "ptb = l*math.cos(beta)*math.sin(dip) # partial derivative of t with respect to beta\n",
    "ptd = l*math.sin(beta)*math.cos(dip) # partial derivative of t with respect to dip\n",
    "\n",
    "# error in quadrature formula\n",
    "t_u = math.sqrt((ptl*l_u)**2 + (ptb*beta_u)**2 + (ptd*dip_u)**2)\n",
    "\n",
    "# Output result\n",
    "print(f\"Thickness = {t:.1f} +/- {t_u:.1f} m\")"
   ]
  },
  {
   "cell_type": "markdown",
   "id": "0cde63d2",
   "metadata": {},
   "source": [
    "So the error in thickness is about 5% the computed thickness. Now let's solve this problem using the `uncertainties` library. For that, we will need to create `ufloat`s (floats with uncertainties), and use `umath` (math with uncertainty):"
   ]
  },
  {
   "cell_type": "code",
   "execution_count": 3,
   "id": "36e2f9b6",
   "metadata": {},
   "outputs": [
    {
     "name": "stdout",
     "output_type": "stream",
     "text": [
      "Thickness = 58.7+/-3.0 m\n"
     ]
    }
   ],
   "source": [
    "# import ufloat and umath functions\n",
    "from uncertainties import ufloat # float with uncertainties\n",
    "from uncertainties import umath # math with uncertainties\n",
    "\n",
    "# define parameters with uncertainties\n",
    "l = ufloat(125, 125*0.005)\n",
    "dip = ufloat(35, 2) / rad\n",
    "beta = ufloat(55, 1) / rad\n",
    "\n",
    "# compute thickness\n",
    "t = l*umath.sin(beta)*umath.sin(dip)\n",
    "\n",
    "# output result\n",
    "print(f\"Thickness = {t:.1f} m\")"
   ]
  },
  {
   "cell_type": "markdown",
   "id": "26dd40fc",
   "metadata": {},
   "source": [
    "We got the same result than above but in a much more efficient way. We also demonstrated that the `uncertainties` package works. "
   ]
  },
  {
   "cell_type": "markdown",
   "id": "dcad376c",
   "metadata": {},
   "source": [
    "## Python functions\n",
    "\n",
    "The functions in:\n",
    "\n",
    "- [angles_u](../functions/angles_u.py) \n",
    "- [three_points_u](../functions/three_points_u.py)\n",
    "- [true_thickness_u](../functions/true_thickness_u.py)\n",
    "\n",
    "are similar to the functions in [angles](../functions/angles.py), [three_points](../functions/three_points.py), and [true_thickness](../functions/true_thickness.py), but they incorporate uncertainties."
   ]
  },
  {
   "cell_type": "markdown",
   "id": "dae2dbdf",
   "metadata": {},
   "source": [
    "## Example 2\n",
    "\n",
    "Let's solve the problem in [notebook 5](nb5_thickness.ipynb), which involves computing the stratigraphic thickness of conformable sedimentary units on a map (please refer to [notebook 5](nb5_thickness.ipynb)). This time however, the uncertainties in strike and dip are 4° and 2°, respectively, the uncertainty in east and north coordinates is 10 m, and the uncertainty in elevation is 5 m.\n",
    "\n",
    "Here is the solution:"
   ]
  },
  {
   "cell_type": "code",
   "execution_count": 4,
   "id": "976d6314",
   "metadata": {},
   "outputs": [
    {
     "name": "stdout",
     "output_type": "stream",
     "text": [
      "Thickness of unit T = 467.2+/-31.5 m\n",
      "Thickness of unit S = 94.6+/-20.4 m\n",
      "Thickness of unit R = 278.6+/-37.0 m\n",
      "Thickness of unit Q = 195.6+/-27.0 m\n"
     ]
    }
   ],
   "source": [
    "# import numpy\n",
    "import numpy as np\n",
    "\n",
    "# this makes visible our functions folder\n",
    "import sys, os\n",
    "sys.path.append(os.path.abspath(os.path.join(\"..\", \"functions\")))\n",
    "\n",
    "# import true_thickness_u function\n",
    "from true_thickness_u import true_thickness_u\n",
    "\n",
    " # create the strike and dip with uncertainties, in radians\n",
    "stk = ufloat(84.5, 4) / rad\n",
    "dip = ufloat(22.5, 2) / rad\n",
    "\n",
    "# ENU coordinates of the points\n",
    "# with uncertainties in E-N = 10, and U = 5\n",
    "p1 = np.array([ufloat(1147, 10), ufloat(3329, 10), \n",
    "               ufloat(400, 5)]) \n",
    "p2 = np.array([ufloat(1323, 10), ufloat(2362, 10), \n",
    "               ufloat(500, 5)]) \n",
    "p3 = np.array([ufloat(1105, 10), ufloat(1850, 10), \n",
    "               ufloat(400, 5)]) \n",
    "p4 = np.array([ufloat(1768, 10), ufloat(940, 10), \n",
    "               ufloat(300, 5)]) \n",
    "p5 = np.array([ufloat(1842, 10), ufloat(191, 10), \n",
    "               ufloat(200, 5)])\n",
    "\n",
    "# compute the thickness of the units\n",
    "thickT = true_thickness_u(stk, dip, p2, p1)\n",
    "thickS = true_thickness_u(stk, dip, p3, p2)\n",
    "thickR = true_thickness_u(stk, dip, p4, p3)\n",
    "thickQ = true_thickness_u(stk, dip, p5, p4) \n",
    "print(\"Thickness of unit T = {:.1f} m\".format(thickT))\n",
    "print(\"Thickness of unit S = {:.1f} m\".format(thickS))\n",
    "print(\"Thickness of unit R = {:.1f} m\".format(thickR))\n",
    "print(\"Thickness of unit Q = {:.1f} m\".format(thickQ))"
   ]
  },
  {
   "cell_type": "markdown",
   "id": "64ccf5f7",
   "metadata": {},
   "source": [
    "For the thinnest unit S, the uncertainty in thickness is about 20% the thickness of the unit! Uncertainties are really important."
   ]
  }
 ],
 "metadata": {
  "kernelspec": {
   "display_name": "base",
   "language": "python",
   "name": "python3"
  },
  "language_info": {
   "codemirror_mode": {
    "name": "ipython",
    "version": 3
   },
   "file_extension": ".py",
   "mimetype": "text/x-python",
   "name": "python",
   "nbconvert_exporter": "python",
   "pygments_lexer": "ipython3",
   "version": "3.11.5"
  }
 },
 "nbformat": 4,
 "nbformat_minor": 5
}
