{
 "cells": [
  {
   "cell_type": "markdown",
   "id": "7b9fa75a",
   "metadata": {},
   "source": [
    "# Notebook 1: Orientation of structural data\n",
    "\n",
    "In this notebook, we will look at the parameters used to describe the orientation of structural data, planes and lines.\n",
    "\n",
    "## Orientation of planes\n",
    "\n",
    "The orientation of a plane (e.g., bedding or a fault plane) is specified by two parameters:\n",
    "\n",
    "- The strike, which is the angle that a horizontal line on the plane makes with the geographic north. This is an azimuth angle between 0 and 360°.\n",
    "- The dip, which is the angle that the plane makes with the horizontal measured on a vertical plane perpendicular to the strike. This is an angle between 0 and 90°.\n",
    "\n",
    "<img src=\"../figures/strikeAndDip.png\" alt=\"strikeAndDip\" width=\"500\" style=\"display: block; margin: 0 auto\"/><br><br>\n",
    "\n",
    "\n",
    "## Right-hand rule convention\n",
    "\n",
    "To avoid any ambiguity with respect to the strike direction, the preferred choice is to give the strike such that the dip direction is 90° to the right of it. This is called the right-hand rule or RHR: If the palm of your right hand is on the plane and the thumb is along the strike direction, the other fingers will point towards the dip direction.\n",
    "\n",
    "<img src=\"../figures/rightHandRule.png\" alt=\"rightHandRule\" width=\"500\" style=\"display: block; margin: 0 auto\"/><br><br>"
   ]
  },
  {
   "cell_type": "markdown",
   "id": "3ad426c5",
   "metadata": {},
   "source": [
    "## Orientation of lines\n",
    "\n",
    "The orientation of a line (e.g., a lineation or a fold axis) is specified by two parameters: \n",
    "\n",
    "- The trend, which is the angle the horizontal projection of the line makes with the geographic north. This is an azimuth angle between 0 and 360°.\n",
    "- The plunge, which is the angle the line makes with the horizontal on a vertical plane containing the line. This is an angle between -90 (line pointing upwards) and 90° (line pointing downwards). We typically work with lines that point downwards (positive plunge). \n",
    "\n",
    "<img src=\"../figures/trendAndPlunge.png\" alt=\"trendAndPlunge\" width=\"500\" style=\"display: block; margin: 0 auto\"/><br><br>\n",
    "\n",
    "\n",
    "## Rake of a line\n",
    "\n",
    "If a line is on a plane (e.g., a current lineation on a sedimentary bed), we can specify the orientation of the line by the angle the line makes with the strike line of the plane, measured on the plane. This is called the rake (or pitch). It is an angle between 0 and 180°.\n",
    "\n",
    "<img src=\"../figures/rake.png\" alt=\"rake\" width=\"500\" style=\"display: block; margin: 0 auto\"/><br><br>\n",
    "\n",
    "## Pole to a plane\n",
    "\n",
    "We can also specify the orientation of a plane by the downward normal to the plane, which is known as the pole to the plane. The pole to the plane is a line.\n",
    "\n",
    "<img src=\"../figures/pole.png\" alt=\"pole\" width=\"500\" style=\"display: block; margin: 0 auto\"/><br><br>\n",
    "\n",
    "If the plane orientation is given in right-hand-rule format, the trend and plunge of the pole are:\n",
    "\n",
    "$$\\text{trend of pole = strike of plane - 90}^\\circ$$\n",
    "\n",
    "$$\\text{plunge of pole = 90}^\\circ\\text{ - dip of plane}$$"
   ]
  },
  {
   "cell_type": "markdown",
   "id": "daf2c7c6",
   "metadata": {},
   "source": [
    "## Python functions\n",
    "\n",
    "1. Function [pole_from_plane](../functions/pole.py) returns the pole of a plane. \n",
    "2. Function [plane_from_pole](../functions/pole.py) returns the plane from its pole.\n",
    "3. Function [zero_twopi](../functions/zero_twopi.py) makes sure any azimuth angle is between 0 and 360°."
   ]
  },
  {
   "cell_type": "markdown",
   "id": "27d70a1f",
   "metadata": {},
   "source": [
    "## Application\n",
    "\n",
    "Now let's do an exercise: Compute the poles to the following planes (strike/dip, RHR): 342/45, 025/54, 234/23, 134/67:"
   ]
  },
  {
   "cell_type": "code",
   "execution_count": 1,
   "id": "bc567167",
   "metadata": {},
   "outputs": [
    {
     "name": "stdout",
     "output_type": "stream",
     "text": [
      "[[252.  45.]\n",
      " [295.  36.]\n",
      " [144.  67.]\n",
      " [ 44.  23.]]\n"
     ]
    }
   ],
   "source": [
    "# this makes visible our functions folder\n",
    "import sys, os\n",
    "sys.path.append(os.path.abspath(\"../functions\"))\n",
    "\n",
    "# import our functions\n",
    "from pole import pole_from_plane, plane_from_pole\n",
    "\n",
    "# import numpy \n",
    "import numpy as np\n",
    "\n",
    "# planes in radians\n",
    "planes = np.radians([[342, 45], [25, 54], [234, 23], [134, 67]])\n",
    "\n",
    "# initialize poles\n",
    "poles = np.zeros(planes.shape)\n",
    "\n",
    "# calculate poles in radians\n",
    "for i in range(planes.shape[0]):\n",
    "    poles[i,0], poles[i,1] = pole_from_plane(planes[i,0], planes[i,1])\n",
    "    \n",
    "# print the poles in degrees\n",
    "print(np.rad2deg(poles))"
   ]
  },
  {
   "cell_type": "markdown",
   "id": "ee15c0c2",
   "metadata": {},
   "source": [
    "And from the poles find the planes' strike and dip:"
   ]
  },
  {
   "cell_type": "code",
   "execution_count": 2,
   "id": "1c35ac39",
   "metadata": {},
   "outputs": [
    {
     "name": "stdout",
     "output_type": "stream",
     "text": [
      "[[342.  45.]\n",
      " [ 25.  54.]\n",
      " [234.  23.]\n",
      " [134.  67.]]\n"
     ]
    }
   ],
   "source": [
    "# calculate planes in radians\n",
    "for i in range(poles.shape[0]):\n",
    "    planes[i,0], planes[i,1] = plane_from_pole(poles[i,0], poles[i,1])\n",
    "    \n",
    "# print the planes in degrees\n",
    "print(np.rad2deg(planes))"
   ]
  },
  {
   "cell_type": "markdown",
   "id": "31c6b1df",
   "metadata": {},
   "source": [
    "Our first code to compute poles from planes and vice versa is working great 🙂"
   ]
  }
 ],
 "metadata": {
  "kernelspec": {
   "display_name": "Python 3 (ipykernel)",
   "language": "python",
   "name": "python3"
  },
  "language_info": {
   "codemirror_mode": {
    "name": "ipython",
    "version": 3
   },
   "file_extension": ".py",
   "mimetype": "text/x-python",
   "name": "python",
   "nbconvert_exporter": "python",
   "pygments_lexer": "ipython3",
   "version": "3.12.4"
  }
 },
 "nbformat": 4,
 "nbformat_minor": 5
}
