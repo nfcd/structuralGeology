{
 "cells": [
  {
   "cell_type": "markdown",
   "metadata": {},
   "source": [
    "# Notebook 24: Stress\n",
    "\n",
    "## Introduction\n",
    "\n",
    "Like strain, stress is a symmetric tensor. In 3D, the stress tensor $\\sigma_{ij}$ has nine components: \n",
    "\n",
    "$$\n",
    "\\sigma_{i j}=\\left[\\begin{array}{lll}\n",
    "\\sigma_{11} & \\sigma_{12} & \\sigma_{13} \\\\\n",
    "\\sigma_{21} & \\sigma_{22} & \\sigma_{23} \\\\\n",
    "\\sigma_{31} & \\sigma_{32} & \\sigma_{33}\n",
    "\\end{array}\\right]\n",
    "$$\n",
    "\n",
    "These are the tractions (force/area) acting on the faces of a small cube, whose sides are parallel to the axes of the coordinate system:\n",
    "\n",
    "<img src=\"../figures/stress_components.png\" alt=\"stress_components\" width=\"350\" style=\"display: block; margin: 0 auto\"/><br><br>\n",
    "\n",
    "As you can see, for the cube not to rotate about one of the axes, $\\sigma_{12} = \\sigma_{21}$, $\\sigma_{23} = \\sigma_{32}$, and $\\sigma_{13} = \\sigma_{31}$. Thus, the stress tensor is a symmetric tensor ($\\sigma_{ij} = \\sigma_{ji}$) that is defined by six components.\n",
    "\n",
    "### Cauchy's law\n",
    "\n",
    "The stress tensor relates two vectors, the traction on a plane, $\\mathbf{t}$, and the pole to the plane, $\\mathbf{p}$. This is expressed by Cauchy's law ([Allmendinger et al., 2012](https://www.cambridge.org/core/books/structural-geology-algorithms/C5AB97C135925A5D49726B741738DCA9)):\n",
    "\n",
    "$$\n",
    "t_i=\\sigma_{i j} p_j\n",
    "$$\n",
    "\n",
    "<img src=\"../figures/cauchy_law.png\" alt=\"cauchy_law\" width=\"350\" style=\"display: block; margin: 0 auto\"/><br><br>\n",
    "\n",
    "### Transformation of the stress tensor\n",
    "\n",
    "If we know the components of the stress tensor in one coordinate system $\\mathbf{X_1X_2X_3}$, we can calculate the components of the tensor in another coordinate system $\\mathbf{X'_1X'_2X'_3}$ ([Allmendinger et al., 2012](https://www.cambridge.org/core/books/structural-geology-algorithms/C5AB97C135925A5D49726B741738DCA9)):\n",
    "\n",
    "$$\n",
    "\\sigma_{i j}^{\\prime}=a_{i k} a_{j l} \\sigma_{k l}\n",
    "$$\n",
    "\n",
    "where $\\mathbf{a}$ is the transformation matrix between the new and the old coordinate system.\n",
    "\n",
    "### Principal axes of stress\n",
    "\n",
    "Since stress is a symmetric tensor, there is one orientation of the coordinate system for which the non-diagonal components of the tensor are zero, and only normal tractions act on the planes perpendicular to the coordinate axes. These normal tractions are the principal stresses: $\\sigma_1$ is the maximum, $\\sigma_2$ is the intermediate, and $\\sigma_3$ is the minimum principal stress."
   ]
  },
  {
   "cell_type": "markdown",
   "metadata": {},
   "source": [
    "## Python functions\n",
    "\n",
    "1. The function [cauchy](../functions/cauchy.py) calculates the tractions acting on a plane of any orientation, in a Cartesian coordinate system of any orientation. This function uses function [dircos_axes](../functions/dircos_axes.py) to calculate the direction cosines of the $\\mathbf{X_1X_2X_3}$ axes, from the trend and plunge of $\\mathbf{X_1}$ and the trend of $\\mathbf{X_3}$.\n",
    "\n",
    "2. The function [tranform_stress](../functions/transform_stress.py) transforms the stress tensor from a Cartesian coordinate system of a given orientation to another orientation.\n",
    "\n",
    "3. The function [principal_stress](../functions/principal_stress.py) calculates the principal stresses and their orientations for a given stress tensor in a Cartesian coordinate system of any orientation.\n",
    "\n",
    "Note: In these three functions, the angles must be input in radians."
   ]
  },
  {
   "cell_type": "markdown",
   "metadata": {},
   "source": [
    "## Application\n",
    "\n",
    "Let's use these functions to solve the following problem: $\\sigma_1$, $\\sigma_2$ and $\\sigma_3$ are 40, 30 and 20 MPa, respectively. $\\sigma_1$ is vertical, and $\\sigma_3$ is horizontal and oriented N-S.\n",
    "\n",
    "1. Compute the tractions parallel to the principal stress directions, acting on a plane with orientation 040/65 (strike and dip, RHR).\n",
    "\n",
    "2. Compute the stress tensor on a new coordinate system with $\\mathbf{X_1}$ oriented 030/45 (trend and plunge), and $\\mathbf{X_3}$ trending 210.\n",
    "\n",
    "3. Demonstrate that the new components of the stress tensor represent the same tensor, by computing the principal stresses from the new components."
   ]
  },
  {
   "cell_type": "code",
   "execution_count": null,
   "metadata": {},
   "outputs": [
    {
     "name": "stdout",
     "output_type": "stream",
     "text": [
      "1. X1, X2, X3 tractions on plane: [16.9  20.83 11.65] \n",
      "\n",
      "2. Stress in new coordinate system:\n",
      " [[31.25  3.06  8.75]\n",
      " [ 3.06 27.5  -3.06]\n",
      " [ 8.75 -3.06 31.25]] \n",
      "\n",
      "3. Principal stresses in new coordinate system:\n",
      "Sigma1 = 40.00 MPa, T = 147.0, P = -90.0\n",
      "Sigma2 = 30.00 MPa, T = 270.0, P = -0.0\n",
      "Sigma3 = 20.00 MPa, T = 180.0, P = 0.0\n"
     ]
    }
   ],
   "source": [
    "import sys, os\n",
    "import numpy as np\n",
    "\n",
    "# this makes visible our functions folder\n",
    "sys.path.append(os.path.abspath(os.path.join(\"..\", \"functions\")))\n",
    "\n",
    "# import functions cauchy, transform_stress, and principal_stress\n",
    "from cauchy import cauchy\n",
    "from transform_stress import transform_stress\n",
    "from principal_stress import principal_stress\n",
    "\n",
    "# input stress tensor in principal coordinates\n",
    "stress = np.array([[40, 0, 0], [0, 30, 0], [0, 0, 20]])\n",
    "\n",
    "# trend and plunge of X1 axis, and trend of X3 axis\n",
    "tx1, px1, tx3 = np.radians([0, 90, 0])\n",
    "\n",
    "# plane orientation\n",
    "stk, dip = np.radians([40, 65])\n",
    "\n",
    "# 1. X1, X2, X3 tracions on plane\n",
    "t, pt = cauchy(stress, tx1, px1, tx3, stk, dip)\n",
    "print(\"1. X1, X2, X3 tractions on plane:\", t.round(2), \"\\n\")\n",
    "\n",
    "# 2. transform stress to a new coordinate system\n",
    "ntx1, npx1, ntx3 = np.radians([30, 45, 210])\n",
    "nstress = transform_stress(stress, tx1, px1, tx3, ntx1, npx1, ntx3)\n",
    "print(\"2. Stress in new coordinate system:\\n\", nstress.round(2), \"\\n\")\n",
    "\n",
    "# 3. principal stresses from new components\n",
    "ps, _ = principal_stress(nstress, ntx1, npx1, ntx3)\n",
    "ps[:,1:3] = np.degrees(ps[:,1:3]) # convert to degrees\n",
    "\n",
    "print(\"3. Principal stresses in new coordinate system:\")\n",
    "print(f\"Sigma1 = {ps[0,0]:.2f} MPa, T = {ps[0,1]:.1f}, P = {ps[0,2]:.1f}\")\n",
    "print(f\"Sigma2 = {ps[1,0]:.2f} MPa, T = {ps[1,1]:.1f}, P = {ps[1,2]:.1f}\")\n",
    "print(f\"Sigma3 = {ps[2,0]:.2f} MPa, T = {ps[2,1]:.1f}, P = {ps[2,2]:.1f}\")"
   ]
  },
  {
   "cell_type": "markdown",
   "metadata": {},
   "source": [
    "The principal stresses computed from the new components of the stress tensor are the same than the input principal stresses. \n",
    "\n",
    "Task:\n",
    "\n",
    "1. Change the orientation of $\\sigma_1$ to 045/00. How do the results change?\n"
   ]
  }
 ],
 "metadata": {
  "kernelspec": {
   "display_name": "base",
   "language": "python",
   "name": "python3"
  },
  "language_info": {
   "codemirror_mode": {
    "name": "ipython",
    "version": 3
   },
   "file_extension": ".py",
   "mimetype": "text/x-python",
   "name": "python",
   "nbconvert_exporter": "python",
   "pygments_lexer": "ipython3",
   "version": "3.11.5"
  }
 },
 "nbformat": 4,
 "nbformat_minor": 2
}
