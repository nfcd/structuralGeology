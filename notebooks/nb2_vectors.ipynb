{
 "cells": [
  {
   "cell_type": "markdown",
   "id": "9153957a",
   "metadata": {},
   "source": [
    "# Notebook 2: Lines as vectors\n",
    "\n",
    "Although we can express lines by trend and plunge, it is difficult to operate on them using these measurements. In this lecture, we will look at how to express lines as vectors.\n",
    "\n",
    "## The NED coordinate system\n",
    "\n",
    "The first thing we need is a Cartesian coordinate system in three-dimensions. We'll choose a coordinate system as shown below, with $\\mathbf{X_1}-\\mathbf{X_2}-\\mathbf{X_3}$ axes equal to North - East - Down. This NED coordinate system is right handed. That means that if you hold your right hand with the thumb pointing along $\\mathbf{X_1}$ (North), the other fingers will curl from $\\mathbf{X_2}$ (East) to $\\mathbf{X_3}$ (Down):\n",
    "\n",
    "<img src=\"../figures/NED.png\" alt=\"NED\" width=\"500\" style=\"display: block; margin: 0 auto\"/><br><br>"
   ]
  },
  {
   "cell_type": "markdown",
   "id": "8bb1c53f",
   "metadata": {},
   "source": [
    "## Vectors\n",
    "\n",
    "A vector is a mathematical entity (a tensor of rank 1) that has both magnitude and orientation. In a 3D Cartesian coordinate system, vectors are defined by three components, which are the lengths of the vector along the axes of the coordinate system:\n",
    "\n",
    "$$\\mathbf{v}=[v_1,v_2,v_3]$$\n",
    "\n",
    "The magnitude (or length) of a vector is:\n",
    "\n",
    "$$v=(v_1^2+v_2^2+v_3^2)^{1/2}$$\n",
    "\n",
    "And if we divide the vector's components by its magnitude, we obtain a unit vector, a vector of length 1.0:\n",
    "\n",
    "$$\\mathbf{\\hat{v}}=[v_1/v,v_2/v,v_3/v]$$\n",
    "\n",
    "The components of a unit vector are the cosines of the angles the vector makes with the axes of the coordinate system. These are called the direction cosines:\n",
    "\n",
    "$$\\mathbf{\\hat v} = [\\cos\\alpha,\\cos\\beta,\\cos\\gamma]$$\n",
    "\n",
    "where $\\cos\\alpha$ is the cosine of the angle between the vector and $\\mathbf{X_1}$, $\\cos\\beta$ is the cosine of the angle between the vector and $\\mathbf{X_2}$, and $\\cos\\gamma$ is the cosine of the angle between the vector and $\\mathbf{X_3}$."
   ]
  },
  {
   "cell_type": "markdown",
   "id": "ae5eb569",
   "metadata": {},
   "source": [
    "## Lines as unit vectors\n",
    "\n",
    "A line can be expressed as a unit vector (red line in figure below): \n",
    "\n",
    "<img src=\"../figures/line_unit_vector.png\" alt=\"line_unit_vector\" width=\"500\" style=\"display: block; margin: 0 auto\"/><br><br>\n",
    "\n",
    "In a NED coordinate system, the direction cosines of a line are (Allmendinger et al., 2012):\n",
    "\n",
    "$$\\cos\\alpha=\\cos(trend)\\cos(plunge)$$\n",
    "\n",
    "$$\\cos\\beta=\\sin(trend)\\cos(plunge)$$\n",
    "\n",
    "$$\\cos\\gamma=\\sin(plunge)$$\n",
    "\n",
    "This allows converting the line from spherical coordinates (trend and plunge) to Cartesian coordiantes (direction cosines).\n",
    "\n",
    "## Unit vectors as lines\n",
    "\n",
    "We can also convert the line from Cartesian coordinates (direction cosines) to spherical coordinates (trend and plunge) (Allmendinger et al., 2012):\n",
    "\n",
    "$$plunge=\\arcsin(\\cos\\gamma)$$\n",
    "\n",
    "$$trend=\\arctan\\left(\\frac{\\cos\\beta}{\\cos\\alpha}\\right)$$\n",
    "\n",
    "However, in the $trend$ equation there is a minor problem because the $\\arctan$ function delivers two possible azimuth angles of opposite direction. Therefore, one should decide which angle to use based on the sign of the direction cosines."
   ]
  },
  {
   "cell_type": "markdown",
   "id": "fcc15272",
   "metadata": {},
   "source": [
    "## Python functions\n",
    "\n",
    "1. Function [sph_to_cart](../functions/sph_to_cart.py) converts a line from spherical coordinates (trend and plunge) to Cartesian coordinates (direction cosines).\n",
    "2. Function [cart_to_sph](../functions/cart_to_sph.py) converts a line from Cartesian coordinates (direction cosines) to sperical coordinates (trend and plunge)."
   ]
  },
  {
   "cell_type": "markdown",
   "id": "96ab7354",
   "metadata": {},
   "source": [
    "## Application\n",
    "\n",
    "Now let's do an exercise: Compute the direction cosines of the following lines (trend/plunge): 252/45, 295/36, 144/67, 044/23:"
   ]
  },
  {
   "cell_type": "code",
   "execution_count": 1,
   "id": "f0c9fa01",
   "metadata": {},
   "outputs": [
    {
     "name": "stdout",
     "output_type": "stream",
     "text": [
      "[[-0.21850801 -0.67249851  0.70710678]\n",
      " [ 0.34190536 -0.7332184   0.58778525]\n",
      " [-0.31610812  0.22966599  0.92050485]\n",
      " [ 0.66215578  0.6394364   0.39073113]]\n"
     ]
    }
   ],
   "source": [
    "# this makes visible our functions folder\n",
    "import sys, os\n",
    "sys.path.append(os.path.abspath(\"../functions\"))\n",
    "\n",
    "# import our functions\n",
    "from sph_to_cart import sph_to_cart\n",
    "from cart_to_sph import cart_to_sph\n",
    "\n",
    "# import numpy\n",
    "import numpy as np\n",
    "\n",
    "# lines in radians\n",
    "lines = np.radians([[252, 45], [295, 36], [144, 67], [44, 23]])\n",
    "\n",
    "# initialize direction cosines\n",
    "dcos = np.zeros((lines.shape[0], 3))\n",
    "\n",
    "# calculate the direction cosines\n",
    "for i in range(lines.shape[0]):\n",
    "    dcos[i,0], dcos[i,1], dcos[i,2] = sph_to_cart(lines[i,0], lines[i,1])\n",
    "    \n",
    "# print the direction cosines\n",
    "print(dcos)"
   ]
  },
  {
   "cell_type": "markdown",
   "id": "2b0a6e7d",
   "metadata": {},
   "source": [
    "And the trend and plunge of the lines from the direction cosines:"
   ]
  },
  {
   "cell_type": "code",
   "execution_count": 2,
   "id": "8858868c",
   "metadata": {},
   "outputs": [
    {
     "name": "stdout",
     "output_type": "stream",
     "text": [
      "[[252.  45.]\n",
      " [295.  36.]\n",
      " [144.  67.]\n",
      " [ 44.  23.]]\n"
     ]
    }
   ],
   "source": [
    "# calculate the trend and plunge from direction cosines\n",
    "for i in range(dcos.shape[0]):\n",
    "    lines[i,0], lines[i,1] = cart_to_sph(dcos[i,0], dcos[i,1], dcos[i,2])\n",
    "\n",
    "# print the lines in degrees\n",
    "print(np.rad2deg(lines))"
   ]
  },
  {
   "cell_type": "markdown",
   "id": "03946eb4",
   "metadata": {},
   "source": [
    "Does this make sense? Try guessing the trend and plunge of the line from its direction cosines, and the direction cosines from the trend and plunge."
   ]
  }
 ],
 "metadata": {
  "kernelspec": {
   "display_name": "Python 3 (ipykernel)",
   "language": "python",
   "name": "python3"
  },
  "language_info": {
   "codemirror_mode": {
    "name": "ipython",
    "version": 3
   },
   "file_extension": ".py",
   "mimetype": "text/x-python",
   "name": "python",
   "nbconvert_exporter": "python",
   "pygments_lexer": "ipython3",
   "version": "3.11.5"
  }
 },
 "nbformat": 4,
 "nbformat_minor": 5
}
