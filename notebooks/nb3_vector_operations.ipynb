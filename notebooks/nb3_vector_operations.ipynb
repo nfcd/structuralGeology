{
 "cells": [
  {
   "cell_type": "markdown",
   "id": "bbcee2a1",
   "metadata": {},
   "source": [
    "# Notebook 3: Vector operations\n",
    "\n",
    "In this notebook we will look at four vector operations, and how these are very useful to solve different types of problems in structural geology:\n",
    "\n",
    "## Scalar multiplication:\n",
    "\n",
    "To multiply a scalar times a vector, just multiply each component of the vector by the scalar:\n",
    "\n",
    "$$x\\mathbf v=[xv_1,xv_2,xv_3]$$\n",
    "\n",
    "This operation is useful to reverse the direction of a vector, just multiply the vector by -1.\n",
    "\n",
    "## Addition\n",
    "\n",
    "To add two vectors, just sum their components. This operation is commutative:\n",
    "\n",
    "$$\\mathbf u + \\mathbf v=\\mathbf v+\\mathbf u=[u_1+v_1,u_2+v_2,u_3+v_3]$$\n",
    "\n",
    "## Dot product\n",
    "\n",
    "The result of the dot product is a scalar and is equal to the magnitude of the first vector times the magnitude of the second vector times the cosine of the angle between the vectors. The dot product is commutative:\n",
    "\n",
    "$$\\mathbf u \\cdot\\mathbf v=\\mathbf v \\cdot\\mathbf u=uv\\cos\\theta=u_1v_1+u_2v_2+u_3v_3=u_iv_i$$\n",
    "\n",
    "If the two vectors are unit vectors, you can see that the dot product is the cosine of the angle between the vectors:\n",
    "\n",
    "$$\\mathbf{\\hat u} \\cdot\\mathbf{\\hat v}=\\cos\\theta=u_1v_1+u_2v_2+u_3v_3$$\n",
    "\n",
    "or in terms of the direction cosines of the vectors:\n",
    "\n",
    "$$\\mathbf{\\hat u}\\cdot\\mathbf{\\hat v}=\\cos\\theta=cos\\alpha_1\\cos\\alpha_2+\\cos\\beta_1\\cos\\beta_2+\\cos\\gamma_1\\cos\\gamma_2$$\n",
    "\n",
    "which is a great way to find the angle between two unit vectors (two lines).\n",
    "\n",
    "## Cross product\n",
    "\n",
    "The result of the cross product is another vector. This vector is perpendicular to the other two vectors, and it has a magnitude equal to the product of the magnitudes of the vectors times the sine of the angle between the vectors:\n",
    "\n",
    "$$\\mathbf u\\times\\mathbf v=uv\\sin\\theta\\mathbf{\\hat l}=[u_2v_3-u_3v_2,u_3v_1-u_1v_3,u_1v_2-u_2v_1]$$\n",
    "\n",
    "The cross product is not commutative. If the vectors are unit vectors, the length of the resulting vector is equal to the sine of the angle between the vectors. The new vector obeys a right-hand rule (see figure below); for $\\mathbf u\\times\\mathbf v$, the fingers curl from $\\mathbf u$ towards $\\mathbf v$ and the thumb points in the direction of the resulting vector, and vice versa:\n",
    "\n",
    "<img src=\"../figures/cross_product.png\" alt=\"cross_product\" width=\"500\" style=\"display: block; margin: 0 auto\"/><br><br>\n",
    "\n",
    "The cross product is great for finding the vector perpendicular to two non-parallel vectors. Since two non-parallel vectors (or lines) define a plane, this translates to finding the pole to a plane containing two non-parallel lines."
   ]
  },
  {
   "cell_type": "markdown",
   "id": "d47cba4b",
   "metadata": {},
   "source": [
    "## Orientation problems\n",
    "\n",
    "The vector operations above are useful to solve a great deal of orientation problems in structural geology. These are summarized in the table below:\n",
    "\n",
    "<img src=\"../figures/orientation_problems.png\" alt=\"orientation_problems\" width=\"700\" style=\"display: block; margin: 0 auto\"/><br><br>\n",
    "\n",
    "In addition, vector addition is useful to find the mean of a group of vectors. We will look at that later."
   ]
  },
  {
   "cell_type": "markdown",
   "id": "06e53969",
   "metadata": {},
   "source": [
    "## Python functions\n",
    "\n",
    "The following Python functions solve the problems in the table above:"
   ]
  },
  {
   "cell_type": "code",
   "execution_count": 1,
   "id": "203b9a03",
   "metadata": {},
   "outputs": [],
   "source": [
    "# A group of Python functions to solve orientation problems. These are also in functions/angles.py\n",
    "\n",
    "import numpy as np\n",
    "\n",
    "# this makes visible our functions folder\n",
    "import sys, os\n",
    "sys.path.append(os.path.abspath(\"../functions\"))\n",
    "\n",
    "from sph_to_cart import sph_to_cart\n",
    "from cart_to_sph import cart_to_sph\n",
    "from pole import pole_from_plane, plane_from_pole\n",
    "\n",
    "# Python functions based on the Matlab function\n",
    "# Angles in Allmendinger et al. (2012)\n",
    "\n",
    "def angle_bw_lines(trd1, plg1, trd2, plg2):\n",
    "    \"\"\"\n",
    "    angle_bw_lines returns the angle between two lines\n",
    "    of trend and plunge trd1, plg1, trd2, and plg2\n",
    "    Input and output angles are in radians\n",
    "    \"\"\"\n",
    "    # convert lines to directions cosines and numpy arrays\n",
    "    cn1, ce1, cd1 = sph_to_cart(trd1, plg1)\n",
    "    u = np.array([cn1, ce1, cd1])\n",
    "    cn2, ce2, cd2 = sph_to_cart(trd2, plg2)\n",
    "    v = np.array([cn2, ce2, cd2])\n",
    "    # angle between lines is arccosine of their dot product\n",
    "    return np.arccos(np.dot(u, v))\n",
    "\n",
    "def angle_bw_planes(str1, dip1, str2, dip2):\n",
    "    \"\"\"\n",
    "    angle_bw_planes returns the angle between two planes\n",
    "    of strike and dip str1, dip1, str2, and dip2\n",
    "    Input and output angles are in radians\n",
    "    \"\"\"\n",
    "    # compute poles to lines\n",
    "    pole1_trd, pole1_plg = pole_from_plane(str1, dip1)\n",
    "    pole2_trd, pole2_plg = pole_from_plane(str2, dip2)\n",
    "    # find angle between poles\n",
    "    angle = angle_bw_lines(pole1_trd, pole1_plg, pole2_trd, pole2_plg)\n",
    "    # angle between planes is the complementary angle\n",
    "    return (np.pi - angle)\n",
    "\n",
    "def pole_from_lines(trd1, plg1, trd2, plg2):\n",
    "    \"\"\"\n",
    "    pole_from_lines compute the pole to a plane given\n",
    "    two lines on the plane, with trend and plunge trd1, plg1,\n",
    "    trd2, and plg2\n",
    "    Input and output angles are in radians\n",
    "    \"\"\"\n",
    "    # convert lines to direction cosines and numpy arrays\n",
    "    cn1, ce1, cd1 = sph_to_cart(trd1, plg1)\n",
    "    u = np.array([cn1, ce1, cd1])\n",
    "    cn2, ce2, cd2 = sph_to_cart(trd2, plg2)\n",
    "    v = np.array([cn2, ce2, cd2])\n",
    "    # normal is cross product between vectors\n",
    "    pole = np.cross(u, v)\n",
    "    # make pole a unit vector\n",
    "    norm = np.linalg.norm(pole)\n",
    "    pole = pole/norm\n",
    "    # if pole points upwards, make it point downwards\n",
    "    if pole[2] < 0:\n",
    "        pole *= -1.0\n",
    "    # return trend and plunge of pole\n",
    "    return cart_to_sph(pole[0], pole[1], pole[2])\n",
    "\n",
    "def plane_from_app_dips(trd1, plg1, trd2, plg2):\n",
    "    \"\"\"\n",
    "    plane_from_app_dips returns the strike and dip of a plane\n",
    "    from two apparent dips with trend and plunge trd1, plg1,\n",
    "    trd2, and plg2\n",
    "    Input and output angles are in radians\n",
    "    \"\"\"\n",
    "    # Compute pole to plane from apparent dips (lines)\n",
    "    pole_trd, pole_plg = pole_from_lines(trd1,plg1,trd2,plg2)\n",
    "    # return strike and dip of plane\n",
    "    return plane_from_pole(pole_trd, pole_plg)\n",
    "\n",
    "def int_bw_planes(str1, dip1, str2, dip2):\n",
    "    \"\"\"\n",
    "    int_bw_planes returns the intersection between two planes\n",
    "    of strike and dip str1, dip1, str2, dip2\n",
    "    Input and output angles are in radians\n",
    "    \"\"\"\n",
    "    # compute poles to planes\n",
    "    pole1_trd, pole1_plg = pole_from_plane(str1, dip1)\n",
    "    pole2_trd, pole2_plg = pole_from_plane(str2, dip2)\n",
    "    # intersection is normal to poles\n",
    "    return pole_from_lines(pole1_trd, pole1_plg, pole2_trd, pole2_plg)"
   ]
  },
  {
   "cell_type": "markdown",
   "id": "b1269f65",
   "metadata": {},
   "source": [
    "## Applications\n",
    "\n",
    "Let’s start with the following problem from Lisle and Leyshon (2004): Two limbs of a chevron fold (A and B) have orientations (RHR) as follows:\n",
    "\n",
    "Limb A = 120/40 \\\n",
    "Limb B = 250/60 \n",
    "\n",
    "Determine: \n",
    "\n",
    "1. the trend and plunge of the hinge line of the fold, \n",
    "2. the rake of the hinge line in limb A, \n",
    "3. the rake of the hinge line in limb B"
   ]
  },
  {
   "cell_type": "code",
   "execution_count": 2,
   "id": "30b211da",
   "metadata": {},
   "outputs": [
    {
     "name": "stdout",
     "output_type": "stream",
     "text": [
      "Hinge trend = 265.8, plunge = 25.3\n",
      "Rake of hinge in limb A = 138.4 E\n",
      "Rake of hinge in limb A = 29.5 W\n"
     ]
    }
   ],
   "source": [
    "# Solution:\n",
    "\n",
    "# Strike and dip of the limbs in radians\n",
    "str1, dip1 = np.radians([120, 40])\n",
    "str2, dip2 = np.radians([250, 60])\n",
    "\n",
    "# 1. Chevron folds have planar limbs. The hinge of the fold\n",
    "#    is the intersection of the limbs\n",
    "htrd, hplg = int_bw_planes(str1, dip1, str2, dip2)\n",
    "print(f\"Hinge trend = {np.rad2deg(htrd):.1f}, plunge = {np.rad2deg(hplg):.1f}\")\n",
    "\n",
    "# The rake of the hinge on either limb is the angle between the strike line\n",
    "# on the limb and the hinge. The strike line is horizontal\n",
    "plg = 0\n",
    "\n",
    "# 2. Rake of hinge in limb A\n",
    "ang = angle_bw_lines(str1, plg, htrd, hplg)\n",
    "print(f\"Rake of hinge in limb A = {np.rad2deg(ang):.1f} E\")\n",
    "\n",
    "# 3. Rake of hinge in limb B\n",
    "ang = angle_bw_lines(str2, plg, htrd, hplg)\n",
    "print(f\"Rake of hinge in limb A = {np.rad2deg(ang):.1f} W\")"
   ]
  },
  {
   "cell_type": "markdown",
   "id": "748569ff",
   "metadata": {},
   "source": [
    "Let’s do another problem from the same book: A quarry has two walls, one trending 002° and the other 135°. The apparent dip of bedding on the faces are 40° N and 30° SE respectively. Calculate the strike and dip of bedding."
   ]
  },
  {
   "cell_type": "code",
   "execution_count": 3,
   "id": "d4c5df70",
   "metadata": {},
   "outputs": [
    {
     "name": "stdout",
     "output_type": "stream",
     "text": [
      "Bedding strike = 333.9, dip = 60.7\n"
     ]
    }
   ],
   "source": [
    "# Solution:\n",
    "\n",
    "# The apparent dips are just two lines on bedding\n",
    "trd1, plg1 = np.radians([2, 40])\n",
    "trd2, plg2 = np.radians([135, 30])\n",
    "\n",
    "# Calculate bedding from the apparent dips\n",
    "strike, dip = plane_from_app_dips(trd1,plg1,trd2,plg2)\n",
    "print(f\"Bedding strike = {np.rad2deg(strike):.1f}, dip = {np.rad2deg(dip):.1f}\")"
   ]
  },
  {
   "cell_type": "markdown",
   "id": "63606900",
   "metadata": {},
   "source": [
    "And the final problem from the same book: A fold has a hinge line oriented 300/40 (trend/plunge). On a map of this structure, the trace of the fold's axial plane trends 088. Calculate the strike and dip of the axial plane:"
   ]
  },
  {
   "cell_type": "code",
   "execution_count": 4,
   "id": "0f4fbc68",
   "metadata": {},
   "outputs": [
    {
     "name": "stdout",
     "output_type": "stream",
     "text": [
      "Axial plane strike = 268.0, dip = 57.7\n"
     ]
    }
   ],
   "source": [
    "# Solution:\n",
    "\n",
    "# This problem is similar to the one before. The axial plane contains \n",
    "# the hinge line and the horizontal axial plane trace on the map\n",
    "trd1, plg1 = np.radians([300, 40])\n",
    "trd2, plg2 = np.radians([88, 0])\n",
    "\n",
    "# Calculate axial plane from the two lines\n",
    "strike, dip = plane_from_app_dips(trd1,plg1,trd2,plg2)\n",
    "print(f\"Axial plane strike = {np.rad2deg(strike):.1f}, dip = {np.rad2deg(dip):.1f}\")"
   ]
  },
  {
   "cell_type": "markdown",
   "id": "7fef9676",
   "metadata": {},
   "source": [
    "Isn't this fun? We now have a set of Python functions to solve many orientation problems in structural geology. "
   ]
  }
 ],
 "metadata": {
  "kernelspec": {
   "display_name": "Python 3 (ipykernel)",
   "language": "python",
   "name": "python3"
  },
  "language_info": {
   "codemirror_mode": {
    "name": "ipython",
    "version": 3
   },
   "file_extension": ".py",
   "mimetype": "text/x-python",
   "name": "python",
   "nbconvert_exporter": "python",
   "pygments_lexer": "ipython3",
   "version": "3.11.9"
  }
 },
 "nbformat": 4,
 "nbformat_minor": 5
}
