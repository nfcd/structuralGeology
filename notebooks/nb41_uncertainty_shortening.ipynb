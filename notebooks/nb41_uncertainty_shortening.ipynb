{
 "cells": [
  {
   "cell_type": "markdown",
   "id": "8c96859a",
   "metadata": {},
   "source": [
    "# Notebook 41: Uncertainty in shortening estimates\n",
    "\n",
    "[Judge and Allmendinger (2011)](https://www.sciencedirect.com/science/article/abs/pii/S0191814111000083) describe the use of area balance to assess the uncertainty in shortening estimates from cross sections.\n",
    "\n",
    "Since area balance provides an analytical solution, it is possible to propagate errors from the vertices of the polygon defining the orogen, and the undeformed stratigraphy, to determine the errors in shortening estimates (Eqs. 1 to 9 in [Judge and Allmendinger, 2011](https://www.sciencedirect.com/science/article/abs/pii/S0191814111000083)).\n",
    "\n",
    "With the help of the [uncertainties](https://pythonhosted.org/uncertainties/) package, it is surprisingly easy to do this calculation. This package propagates errors using a Gaussian error formula (see [Notebook 14](nb14_uncertainties.ipynb)).\n",
    "\n",
    "Let's look at a cross section from the southern Subandean fold and thrust belt in Northern Argentina ([Echavarría et al., 2003](https://pubs.geoscienceworld.org/aapg/aapgbull/article-abstract/87/6/965/40087/Subandean-thrust-and-fold-belt-of-northwestern?redirectedFrom=fulltext)). This is also Exercise 3 of chapter 12 in [Allmendinger et al. (2012)](https://www.cambridge.org/core/books/structural-geology-algorithms/C5AB97C135925A5D49726B741738DCA9).\n",
    "\n",
    "## Installing the uncertainties package\n",
    "\n",
    "If you haven't done so, install the [uncertainties](https://pythonhosted.org/uncertainties/) package by running the cell below."
   ]
  },
  {
   "cell_type": "code",
   "execution_count": null,
   "id": "fc6611c7",
   "metadata": {},
   "outputs": [],
   "source": [
    "# run this cell if uncertainties is not installed\n",
    "import sys\n",
    "!{sys.executable} -m pip install --upgrade uncertainties"
   ]
  },
  {
   "cell_type": "markdown",
   "id": "19759466",
   "metadata": {},
   "source": [
    "Next we import the required libraries. The uncertainties package outputs some warnings that aren't very relevant, therefore we ignore them."
   ]
  },
  {
   "cell_type": "code",
   "execution_count": 1,
   "id": "a7e85ccd",
   "metadata": {},
   "outputs": [],
   "source": [
    "# import required libraries\n",
    "import os\n",
    "import numpy as np\n",
    "import matplotlib.pyplot as plt\n",
    "from uncertainties import ufloat, unumpy\n",
    "# suppress warnings from uncertainties package\n",
    "import warnings\n",
    "warnings.filterwarnings(\"ignore\")"
   ]
  },
  {
   "cell_type": "markdown",
   "id": "1ecbfe34",
   "metadata": {},
   "source": [
    "Now we import the [cross section data](../data/subandean.txt), which is included in Exercise 3 of chapter 12 in [Allmendinger et al. (2012)](https://www.cambridge.org/core/books/structural-geology-algorithms/C5AB97C135925A5D49726B741738DCA9). These are the vertices (and their uncertainties) of the polygon defining the Subandean fold and thrust belt.\n",
    "\n",
    "We also plot the data and error bars."
   ]
  },
  {
   "cell_type": "code",
   "execution_count": 2,
   "id": "11e593e4",
   "metadata": {},
   "outputs": [
    {
     "data": {
      "image/png": "[encoded data removed]",
      "text/plain": [
       "<Figure size 640x480 with 1 Axes>"
      ]
     },
     "metadata": {},
     "output_type": "display_data"
    }
   ],
   "source": [
    "# import data (chapter 12, Exercise 3, Allmendinger et al. 2012)\n",
    "path = os.path.join(\"..\", \"data\", \"subandean.txt\")\n",
    "data = np.loadtxt(path)\n",
    "x = data[:, 0]  # x-coordinates in km\n",
    "y = data[:, 1]  # y-coordinates in km\n",
    "x_err = data[:, 2]  # x-errors in km\n",
    "y_err = data[:, 3]  # y-errors in km\n",
    "tag = data[:, 4]  # tag for each point\n",
    "\n",
    "# plot data\n",
    "fig, ax = plt.subplots()\n",
    "ax.errorbar(x, y, xerr=x_err, yerr=y_err, fmt='o-', markersize=1, color=\"black\")\n",
    "ax.set_xlabel(\"x (km)\")\n",
    "ax.set_ylabel(\"y (km)\")\n",
    "ax.set_aspect(\"equal\")\n",
    "ax.grid()\n",
    "plt.show()"
   ]
  },
  {
   "cell_type": "markdown",
   "id": "a24595e0",
   "metadata": {},
   "source": [
    "Creating the vertices with uncertainties is very easy. We just need to use the `unumpy.uarray()` method:"
   ]
  },
  {
   "cell_type": "code",
   "execution_count": 3,
   "id": "929380ab",
   "metadata": {},
   "outputs": [],
   "source": [
    "# x and y arrays with uncertainties\n",
    "x = unumpy.uarray(x, x_err)\n",
    "y = unumpy.uarray(y, y_err)"
   ]
  },
  {
   "cell_type": "markdown",
   "id": "c7556046",
   "metadata": {},
   "source": [
    "Now, we need a function that computes the area of the polygon. The function below will do the job. Notice that the vertices defining the polygon must be in sequential order."
   ]
  },
  {
   "cell_type": "code",
   "execution_count": 4,
   "id": "3fafbd74",
   "metadata": {},
   "outputs": [],
   "source": [
    "def polyg_area(x, y):\n",
    "    \"\"\"\n",
    "    Calculate the area of a polygon using the shoelace formula.\n",
    "    \n",
    "    Parameters:\n",
    "    x (numpy array): x-coordinates of the polygon vertices.\n",
    "    y (numpy array): y-coordinates of the polygon vertices.\n",
    "    \n",
    "    Returns:\n",
    "    float: Area of the polygon.\n",
    "    \"\"\" \n",
    "    area = 0.5 * np.abs(np.dot(x, np.roll(y, 1)) - np.dot(y, np.roll(x, 1)))\n",
    "    \n",
    "    return area"
   ]
  },
  {
   "cell_type": "markdown",
   "id": "e83ca636",
   "metadata": {},
   "source": [
    "uarrays work in a similar way than Numpy arrays. Therefore we can pass the vertices to our function to calculate the area of the fold and thrust belt. The estimated area has an uncertainty."
   ]
  },
  {
   "cell_type": "code",
   "execution_count": 5,
   "id": "cb0a2805",
   "metadata": {},
   "outputs": [
    {
     "name": "stdout",
     "output_type": "stream",
     "text": [
      "Area of polygon: 447.80+/-47.81 km^2\n"
     ]
    }
   ],
   "source": [
    "# calculate and print area\n",
    "area = polyg_area(x, y) # km^2\n",
    "print(f\"Area of polygon: {area:.2f} km^2\")"
   ]
  },
  {
   "cell_type": "markdown",
   "id": "d4669809",
   "metadata": {},
   "source": [
    "From the area and the undeformed thickness on the eastern (`t_1`) and western (`t_2`) sides of the orogen ([Allmendinger et al., 2012](https://www.cambridge.org/core/books/structural-geology-algorithms/C5AB97C135925A5D49726B741738DCA9)), we can calculate the shortening of the section:"
   ]
  },
  {
   "cell_type": "code",
   "execution_count": null,
   "id": "52edac46",
   "metadata": {},
   "outputs": [
    {
     "name": "stdout",
     "output_type": "stream",
     "text": [
      "Current width: 74.36+/-1.13 km\n",
      "Initial width: 119.41+/-15.41 km\n",
      "Shortening: 45.06+/-15.35 km\n",
      "Shortening: 37.73+/-8.01 %\n"
     ]
    }
   ],
   "source": [
    "# Stratigraphic thickness from Allmendinger et al. (2012)\n",
    "# eastern side\n",
    "t_1 = ufloat(2.9, 0.29)  # value and error in km\n",
    "# western side\n",
    "t_2 = ufloat(4.6, 0.46)  # value and error in km\n",
    "\n",
    "# current width at about 5 km depth\n",
    "w_f = x[-1] - x[2] # km\n",
    "\n",
    "# initial width: Eq. 12.13 of Allmendinger et al. (2012) \n",
    "w_i = (2*area) / (t_1 + t_2) # km\n",
    "\n",
    "# shortening\n",
    "shortening = w_i - w_f # km\n",
    "# shortening in percent\n",
    "shortening_perc = (shortening / w_i) * 100 # %\n",
    "\n",
    "print(f\"Current width: {w_f:.2f} km\")\n",
    "print(f\"Initial width: {w_i:.2f} km\")\n",
    "print(f\"Shortening: {shortening:.2f} km\")\n",
    "print(f\"Shortening: {shortening_perc:.2f} %\")"
   ]
  },
  {
   "cell_type": "markdown",
   "id": "38f16311",
   "metadata": {},
   "source": [
    "The estimated shortening is close to that calculated by [Judge and Allmendinger (2011)](https://www.sciencedirect.com/science/article/abs/pii/S0191814111000083) using a Gaussian error (see their Table 2)."
   ]
  }
 ],
 "metadata": {
  "kernelspec": {
   "display_name": "base",
   "language": "python",
   "name": "python3"
  },
  "language_info": {
   "codemirror_mode": {
    "name": "ipython",
    "version": 3
   },
   "file_extension": ".py",
   "mimetype": "text/x-python",
   "name": "python",
   "nbconvert_exporter": "python",
   "pygments_lexer": "ipython3",
   "version": "3.12.7"
  }
 },
 "nbformat": 4,
 "nbformat_minor": 5
}
