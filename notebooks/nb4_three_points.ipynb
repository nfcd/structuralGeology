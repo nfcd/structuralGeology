{
 "cells": [
  {
   "cell_type": "markdown",
   "id": "dd93a9b0-9993-41ac-91f8-3e7f95d6dee5",
   "metadata": {},
   "source": [
    "# Notebook 4: The three point problem\n",
    "\n",
    "The three point problem is a fundamental problem in geology. It is based on the fact that three non-collinear points on a plane define the orientation of the plane. The graphical solution to this problem is introduced early in Geosciences. It involves finding the strike line (a line connecting two points of equal elevation) on the plane, and the dip from two strike lines (two structure contours) on the plane.\n",
    "\n",
    "However, there is an easier solution to this problem using linear algebra: The three points on the plane define two lines, and the cross product between these lines is parallel to the pole to the plane, from which the orientation of the plane can be estimated."
   ]
  },
  {
   "cell_type": "markdown",
   "id": "fbd073b9",
   "metadata": {},
   "source": [
    "## Python function\n",
    "\n",
    "Function [three_points](../functions/three_points.py) computes the strike and dip of a plane from the east, north, and up coordinates of three points on the plane."
   ]
  },
  {
   "cell_type": "markdown",
   "id": "2adf42d5",
   "metadata": {},
   "source": [
    "## Application\n",
    "\n",
    "Let's use this function to solve the following problem from Bennison (1990). For the topographic map below, borehole A passes through a coal seam at a depth of 50 m, and reaches a lower seam at a depth of 450 m. Boreholes B and C reach the lower seam at depths of 150 and 250 m, respectively.\n",
    "\n",
    "Determine the strike and dip of the seams. Assume the seams are conformable and have a constant vertical separation of 400 m. Also, set the origin of the east-north coordinates at the lower left corner of the map.\n",
    "\n",
    "<img src=\"../figures/three_point.png\" alt=\"three_point\" width=\"500\" style=\"display: block; margin: 0 auto\"/><br><br>\n",
    "\n",
    "The elevation of the lower seam at A, B and C is:\n",
    "\n",
    "A = 1000 - 450 = 550 m\n",
    "\n",
    "B = 800 - 150 = 650 m\n",
    "\n",
    "C = 700 - 250 = 450 m\n",
    "\n",
    "And since the vertical distance between the seams is 400 m, the elevation of the upper seam at A, B and C is 950, 1050 and 850 m, respectively.\n",
    "\n",
    "With the origin of the east-north coordinates at the lower left corner of the map, the coordinates of the seams at the three boreholes are:\n",
    "\n",
    "<div align=\"center\">\n",
    "\n",
    "| Borehole | Lower seam | Upper seam |\n",
    "| -------- | ---------- | ---------- |\n",
    "| A | [393, 2374, 550] | [393, 2374, 950] |\n",
    "| B | [1891, 2738, 650] | [1891, 2738, 1050] |\n",
    "| C | [2191, 1037, 450] | [2191, 1037, 850] |\n",
    "\n",
    "</div>\n",
    "\n",
    "We now have all the information to solve this problem:\n"
   ]
  },
  {
   "cell_type": "code",
   "execution_count": 1,
   "id": "a31d1c3d",
   "metadata": {},
   "outputs": [
    {
     "name": "stdout",
     "output_type": "stream",
     "text": [
      "Lower seam: strike = 106.45, dip = 7.37\n",
      "Upper seam: strike = 106.45, dip = 7.37\n"
     ]
    }
   ],
   "source": [
    "# this makes visible our functions folder\n",
    "import sys, os\n",
    "sys.path.append(os.path.abspath(os.path.join(\"..\", \"functions\")))\n",
    "\n",
    "# import three_points function\n",
    "from three_points import three_points\n",
    "\n",
    "# import numpy\n",
    "import numpy as np\n",
    "\n",
    "# lower seam\n",
    "p1 = np.array([393, 2374, 550])\n",
    "p2 = np.array([1891, 2738, 650])\n",
    "p3 = np.array([2191, 1037, 450])\n",
    "\n",
    "strike, dip = three_points(p1,p2,p3)\n",
    "print(f\"Lower seam: strike = {np.degrees(strike):.2f}, dip = {np.degrees(dip):.2f}\")\n",
    "\n",
    "# the upper seam has the same orientation\n",
    "# let's check it\n",
    "p1 = np.array([393, 2374, 950])\n",
    "p2 = np.array([1891, 2738, 1050])\n",
    "p3 = np.array([2191, 1037, 850])\n",
    "\n",
    "strike, dip = three_points(p1,p2,p3)\n",
    "print(f\"Upper seam: strike = {np.degrees(strike):.2f}, dip = {np.degrees(dip):.2f}\")"
   ]
  }
 ],
 "metadata": {
  "kernelspec": {
   "display_name": "base",
   "language": "python",
   "name": "python3"
  },
  "language_info": {
   "codemirror_mode": {
    "name": "ipython",
    "version": 3
   },
   "file_extension": ".py",
   "mimetype": "text/x-python",
   "name": "python",
   "nbconvert_exporter": "python",
   "pygments_lexer": "ipython3",
   "version": "3.12.7"
  }
 },
 "nbformat": 4,
 "nbformat_minor": 5
}
