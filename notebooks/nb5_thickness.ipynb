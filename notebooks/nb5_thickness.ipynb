{
 "cells": [
  {
   "cell_type": "markdown",
   "metadata": {},
   "source": [
    "# Notebook 5: Thickness\n",
    "\n",
    "Thickness is the perpendicular distance between the parallel planes bounding a tabular bed (e.g., sedimentary bed). This is also called the true thickness or stratigraphic thickness.\n",
    "\n",
    "There are several trigonometrical relationships to compute thickness from the orientation of the planes bounding the bed, and the slope of the ground or inclination of the borehole the bed is intersecting ([Ragan, 2009](https://www.cambridge.org/core/books/structural-geology/4D631885C9FBBCDEF90C555445ED1160#)). These formulas are useful but there is an easier way to compute thickness, mainly through a coordinate transformation."
   ]
  },
  {
   "cell_type": "markdown",
   "metadata": {},
   "source": [
    "## Coordinate transformations\n",
    "\n",
    "A coordinate transformation involves a change in the origin and orientation of the coordinate system ([Allmendinger et al., 2012](https://www.cambridge.org/core/books/structural-geology-algorithms/C5AB97C135925A5D49726B741738DCA9)). We will refer to the new axes as the primed coordinate system, $\\mathbf{X'}$, and the old coordinate system as the unprimed system, $\\mathbf{X}$ (Figure a below).\n",
    "\n",
    "<img src=\"../figures/coord_transf.png\" alt=\"coord_transf\" width=\"750\" style=\"display: block; margin: 0 auto\"/><br><br>\n",
    "\n",
    "Let's assume there is no translation and the origin of the old and new coordinate systems is the same. The change in orientation of the new coordinate system is defined by the angles, $\\theta$, between the new coordinate axes and the old axes. In Figure a, these angles are marked systematically, the first subscript refers to the new coordinate axis and the second subscript to the old coordinate axis. For example, $\\theta_{23}$ is the angle between the $\\mathbf{X_2'}$ axis and the $\\mathbf{X_3}$ axis.\n",
    "\n",
    "To define the transformation, we use the cosines of these angles (Figure b). These are the direction cosines of the new axes with respect to the old axes. The subscript convention is the same. For example, $a_{23}$ is the direction cosines of the $\\mathbf{X_2'}$ axis with respect to the $\\mathbf{X_3}$ axis. There are nine direction cosines that form a 3 x 3 matrix, where each row refers to a new axis and each column to an old axis (Figure b). This matrix, $\\mathbf{a}$, of direction cosines is known as the transformation matrix and it defines the transformation.\n",
    "\n",
    "Once we know the transformation matrix, $\\mathbf{a}$, we can transform a vector from an old to a new coordinate system quite easily:\n",
    "\n",
    "$$\\begin{aligned} & v_1^{\\prime}=a_{11} v_1+a_{12} v_2+a_{13} v_3 \\\\ & v_2^{\\prime}=a_{21} v_1+a_{22} v_2+a_{23} v_3 \\\\ & v_3{ }^{\\prime}=a_{31} v_1+a_{32} v_2+a_{33} v_3 \\end{aligned}$$\n",
    "\n",
    "or in index notation:\n",
    "\n",
    "$$v_i^{\\prime}=a_{i j} v_j$$\n",
    "\n",
    "where $v_i$ is the vector in the old coordinate system, and $v'_i$ is the vector in the new coordinate system."
   ]
  },
  {
   "cell_type": "markdown",
   "metadata": {},
   "source": [
    "## Calculating thickness by a coordinate transformation\n",
    "\n",
    "Suppose that points on the top and base of the unit are given in an east, north, up coordinate system (ENU, Figure below). We can transform these points to a coordinate system related to these planes, where the strike of the planes is the first axis, the dip the second axis, and the poles to the planes the third axis (SDP, Figure below) ([Allmendinger, 2020](http://dx.doi.org/10.1130/GES02253.1)). \n",
    "\n",
    "<img src=\"../figures/sdp.png\" alt=\"sdp\" width=\"500\" style=\"display: block; margin: 0 auto\"/><br><br>\n",
    "\n",
    "Without demonstration (see section 5.2.1 of our [Computational Geosciences resource](https://github.com/nfcd/compGeo) for that), the matrix, $\\mathbf{a}$, defining this transformation is:\n",
    "\n",
    "$$\\mathbf{a}=\\left[\\begin{array}{ccc} \\sin (\\text { strike }) & \\cos (\\text { strike }) & 0 \\\\ \n",
    "\\cos (\\text { strike }) \\cos (\\text { dip }) & -\\sin (\\text { strike }) \\cos (\\text { dip }) & -\\sin (\\text { dip }) \\\\ \n",
    "-\\cos (\\text { strike }) \\sin (\\text { dip }) & \\sin (\\text { strike }) \\sin (\\text { dip }) & -\\cos (\\text { dip }) \\end{array}\\right]$$\n",
    "\n",
    "After transforming the points, the thickness of the unit is just the difference between the P coordinates of any point on the top and any point on the base of the unit."
   ]
  },
  {
   "cell_type": "markdown",
   "metadata": {},
   "source": [
    "## Python function\n",
    "\n",
    "Function [true_thickness](../functions/true_thickness.py) calculates the thickness of a unit given the strike and dip of the unit, and the ENU coordinates of points at the top and base of the unit."
   ]
  },
  {
   "cell_type": "markdown",
   "metadata": {},
   "source": [
    "## Application\n",
    "\n",
    "Let's use this function to determine the thickness of the sedimentary units T to Q in the geologic map below ([Bennison et al., 2011](https://www.routledge.com/An-Introduction-to-Geological-Structures-and-Maps/Bennison-Olver-Moseley/p/book/9781032320182?srsltid=AfmBOoroHjebbR6MzssQGE2jUSz3Q0jfMtBrBDz9cHIiyYkupTgTlQ_R)). The units are conformable and their orientation is (strike and dip, RHR) 84.5/22.5. \n",
    "\n",
    "<img src=\"../figures/thick_ex.png\" alt=\"thick_ex\" width=\"500\" style=\"display: block; margin: 0 auto\"/><br><br>\n",
    "\n",
    "The ENU coordinates of the points (all in meters) are:\n",
    "\n",
    "<div align=\"center\">\n",
    "\n",
    "| Points | East | North | Up |\n",
    "| ------ | ---- | ----- | -- |\n",
    "| 1 | 1147 | 3329 | 400 |\n",
    "| 2 | 1323 | 2362 | 500 |\n",
    "| 3 | 1105 | 1850 | 400 |\n",
    "| 4 | 1768 | 940 | 300 |\n",
    "| 5 | 1842 | 191 | 200 |\n",
    "\n",
    "</div>\n",
    "\n",
    "The code cell below contains the solution:"
   ]
  },
  {
   "cell_type": "code",
   "execution_count": null,
   "metadata": {},
   "outputs": [
    {
     "name": "stdout",
     "output_type": "stream",
     "text": [
      "Thickness of unit T: 467.2 m\n",
      "Thickness of unit S: 94.6 m\n",
      "Thickness of unit R: 278.6 m\n",
      "Thickness of unit Q: 195.6 m\n"
     ]
    }
   ],
   "source": [
    "# this makes visible our functions folder\n",
    "import sys, os\n",
    "sys.path.append(os.path.abspath(os.path.join(\"..\", \"functions\")))\n",
    "\n",
    "# import true_thickness function\n",
    "from true_thickness import true_thickness\n",
    "\n",
    "# import numpy\n",
    "import numpy as np\n",
    "\n",
    "# strike and dip of the unit in radians\n",
    "strike, dip = np.radians([84.5, 22.5])\n",
    "\n",
    "# ENU coordinates of the points\n",
    "p1 = np.array([1147, 3329, 400])\n",
    "p2 = np.array([1323, 2362, 500]) \n",
    "p3 = np.array([1105, 1850, 400]) \n",
    "p4 = np.array([1768, 940, 300]) \n",
    "p5 = np.array([1842, 191, 200])\n",
    "\n",
    "# compute the thickness of the units\n",
    "thick_T = true_thickness(strike,dip,p2,p1)\n",
    "thick_S = true_thickness(strike,dip,p3,p2)\n",
    "thick_R = true_thickness(strike,dip,p4,p3)\n",
    "thick_Q = true_thickness(strike,dip,p5,p4)\n",
    "\n",
    "# print the results\n",
    "print(f\"Thickness of unit T: {thick_T:.1f} m\")\n",
    "print(f\"Thickness of unit S: {thick_S:.1f} m\")\n",
    "print(f\"Thickness of unit R: {thick_R:.1f} m\")\n",
    "print(f\"Thickness of unit Q: {thick_Q:.1f} m\")"
   ]
  },
  {
   "cell_type": "markdown",
   "metadata": {},
   "source": [
    "That is very useful 👍"
   ]
  }
 ],
 "metadata": {
  "kernelspec": {
   "display_name": "base",
   "language": "python",
   "name": "python3"
  },
  "language_info": {
   "codemirror_mode": {
    "name": "ipython",
    "version": 3
   },
   "file_extension": ".py",
   "mimetype": "text/x-python",
   "name": "python",
   "nbconvert_exporter": "python",
   "pygments_lexer": "ipython3",
   "version": "3.11.9"
  }
 },
 "nbformat": 4,
 "nbformat_minor": 2
}
