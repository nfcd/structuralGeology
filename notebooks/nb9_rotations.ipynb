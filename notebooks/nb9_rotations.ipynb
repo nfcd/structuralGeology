{
 "cells": [
  {
   "cell_type": "markdown",
   "metadata": {},
   "source": [
    "# Notebook 9: Rotations\n",
    "\n",
    "Rotations are essential in geology. For example, if from a current lineation on a tilted bed we want to estimate the direction of the current that deposited the bed, we need to rotate the bed (and the lineation) back to their pre- tilting orientation.\n",
    "\n",
    "A rotation is also a coordinate transformation from an old coordinate system to a new coordinate system. The rotation axis is specified by its trend and plunge, and the magnitude of rotation is given by the angle $\\omega$ which is positive for clockwise rotation and vice versa. \n",
    "\n",
    "Without demonstration, the components of the transformation matrix, $\\mathbf{a}$, that describes this transformation are:\n",
    "\n",
    "$$\n",
    "\\begin{gathered}\n",
    "a_{11}=\\cos \\omega+\\cos ^2 \\alpha(1-\\cos \\omega) \\\\\n",
    "a_{12}=-\\cos \\gamma \\sin \\omega+\\cos \\alpha \\cos \\beta(1-\\cos \\omega) \\\\\n",
    "a_{13}=\\cos \\beta \\sin \\omega+\\cos \\alpha \\cos \\gamma(1-\\cos \\omega) \\\\\n",
    "a_{21}=\\cos \\gamma \\sin \\omega+\\cos \\beta \\cos \\alpha(1-\\cos \\omega) \\\\\n",
    "a_{22}=\\cos \\omega+\\cos ^2 \\beta(1-\\cos \\omega) \\\\\n",
    "a_{23}=-\\cos \\alpha \\sin \\omega+\\cos \\beta \\cos \\gamma(1-\\cos \\omega) \\\\\n",
    "a_{31}=-\\cos \\beta \\sin \\omega+\\cos \\gamma \\cos \\alpha(1-\\cos \\omega) \\\\\n",
    "a_{32}=\\cos \\alpha \\sin \\omega+\\cos \\gamma \\cos \\beta(1-\\cos \\omega) \\\\\n",
    "a_{33}=\\cos \\omega+\\cos ^2 \\gamma(1-\\cos \\omega)\n",
    "\\end{gathered}\n",
    "$$\n",
    "\n",
    "where $\\cos\\alpha$, $\\cos\\beta$ and $\\cos\\gamma$ are the direction cosines of the rotation axis in our NED coordinate system (see notebook 2)."
   ]
  },
  {
   "cell_type": "markdown",
   "metadata": {},
   "source": [
    "## Python function\n",
    "\n",
    "Function [rotate](../functions/rotate.py) rotates a line (defined by its trend and plunge) about a rotation axis (defined by its trend and plunge), an amount $\\omega$."
   ]
  },
  {
   "cell_type": "markdown",
   "metadata": {},
   "source": [
    "## Application\n",
    "\n",
    "Let's solve this problem from Leyshon and Lisle (1996): An overturned bed oriented 305/60 (RHR) has sedimentary lineations which indicate the palaeocurrent direction. These pitch at 60NW, with the current flowing up the plunge. Calculate the original trend of the paleocurrents.\n",
    "\n",
    "To solve this problem, we will do two rotations:\n",
    "1. A clockwise rotation of the strike line of the bed about the pole of the bed, an amount equal to the pitch of the lineation. This will give us the orientation of the lineation.\n",
    "2. A clockwise rotation of the lineation about the strike line of the plane, an amount equal to 180 - dip (since the plane is overturned). This will give us the pre-tilted orientation of the lineation."
   ]
  },
  {
   "cell_type": "code",
   "execution_count": 1,
   "metadata": {},
   "outputs": [
    {
     "name": "stdout",
     "output_type": "stream",
     "text": [
      "Trend/plunge of the lineation:345.9/48.6\n",
      "Pre-tilted trend/plunge of the lineation:245.0/0.0\n",
      "Trend of the paleocurrent: 65.0\n"
     ]
    }
   ],
   "source": [
    "# this makes visible our functions folder\n",
    "import sys, os\n",
    "sys.path.append(os.path.abspath(\"../functions\"))\n",
    "\n",
    "# import our functions\n",
    "from zero_twopi import zero_twopi\n",
    "from pole import pole_from_plane\n",
    "from rotate import rotate\n",
    "\n",
    "# import numpy\n",
    "import numpy as np\n",
    "\n",
    "# strike and dip of the bed in radians\n",
    "strike, dip = np.radians([305, 60])\n",
    "\n",
    "# pole to the bed in radians\n",
    "p_trd, p_plg = pole_from_plane(strike, dip)\n",
    "\n",
    "# strike line in radians\n",
    "s_trd, s_plg = strike, 0\n",
    "\n",
    "# determine the orientation of the lineation by rotating the strike line \n",
    "# clockwise about the pole an amount equal to the pitch of the lineation\n",
    "rot = np.radians(60) \n",
    "l_trd, l_plg = rotate(p_trd, p_plg, rot, s_trd, s_plg, 'a')\n",
    "print(f\"Trend/plunge of the lineation:{np.degrees(l_trd):.1f}/{np.degrees(l_plg):.1f}\")\n",
    "\n",
    "# determine the pre-tilted orientation of the lineation by rotating \n",
    "# the lineation clockwise about the strike line and amount = 180 - dip = 120\n",
    "rot = np.radians(120) \n",
    "lr_trd, lr_plg = rotate(s_trd, s_plg, rot, l_trd, l_plg, 'a')\n",
    "print(f\"Pre-tilted trend/plunge of the lineation:{np.degrees(lr_trd):.1f}/{np.degrees(lr_plg):.1f}\")\n",
    "\n",
    "# the current flows up the plunge, so the trend of the paleocurrent is:\n",
    "pal_trd = zero_twopi(lr_trd + np.pi)\n",
    "print(f\"Trend of the paleocurrent: {np.degrees(pal_trd):.1f}\")"
   ]
  },
  {
   "cell_type": "markdown",
   "metadata": {},
   "source": [
    "In the next notebooks, we will see that rotations are very handy to draw great and small circles on stereonets."
   ]
  }
 ],
 "metadata": {
  "kernelspec": {
   "display_name": "base",
   "language": "python",
   "name": "python3"
  },
  "language_info": {
   "codemirror_mode": {
    "name": "ipython",
    "version": 3
   },
   "file_extension": ".py",
   "mimetype": "text/x-python",
   "name": "python",
   "nbconvert_exporter": "python",
   "pygments_lexer": "ipython3",
   "version": "3.11.9"
  }
 },
 "nbformat": 4,
 "nbformat_minor": 2
}
