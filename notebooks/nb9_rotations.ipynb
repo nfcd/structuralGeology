{
 "cells": [
  {
   "cell_type": "markdown",
   "metadata": {},
   "source": [
    "# Notebook 9: Rotations\n",
    "\n",
    "Rotations are essential in geology. For example, if from a current lineation on a tilted bed we want to estimate the direction of the current that deposited the bed, we need to rotate the bed (and the lineation) back to their pre- tilting orientation.\n",
    "\n",
    "A rotation is also a coordinate transformation from an old coordinate system to a new coordinate system. The rotation axis is specified by its trend and plunge, and the magnitude of rotation is given by the angle $\\omega$ which is positive for clockwise rotation and vice versa. \n",
    "\n",
    "Without demonstration, the components of the transformation matrix, $\\mathbf{a}$, that describes this transformation are:\n",
    "\n",
    "$$\n",
    "\\begin{gathered}\n",
    "a_{11}=\\cos \\omega+\\cos ^2 \\alpha(1-\\cos \\omega) \\\\\n",
    "a_{12}=-\\cos \\gamma \\sin \\omega+\\cos \\alpha \\cos \\beta(1-\\cos \\omega) \\\\\n",
    "a_{13}=\\cos \\beta \\sin \\omega+\\cos \\alpha \\cos \\gamma(1-\\cos \\omega) \\\\\n",
    "a_{21}=\\cos \\gamma \\sin \\omega+\\cos \\beta \\cos \\alpha(1-\\cos \\omega) \\\\\n",
    "a_{22}=\\cos \\omega+\\cos ^2 \\beta(1-\\cos \\omega) \\\\\n",
    "a_{23}=-\\cos \\alpha \\sin \\omega+\\cos \\beta \\cos \\gamma(1-\\cos \\omega) \\\\\n",
    "a_{31}=-\\cos \\beta \\sin \\omega+\\cos \\gamma \\cos \\alpha(1-\\cos \\omega) \\\\\n",
    "a_{32}=\\cos \\alpha \\sin \\omega+\\cos \\gamma \\cos \\beta(1-\\cos \\omega) \\\\\n",
    "a_{33}=\\cos \\omega+\\cos ^2 \\gamma(1-\\cos \\omega)\n",
    "\\end{gathered}\n",
    "$$\n",
    "\n",
    "where $\\cos\\alpha$, $\\cos\\beta$ and $\\cos\\gamma$ are the direction cosines of the rotation axis in our NED coordinate system (see notebook 2)."
   ]
  },
  {
   "cell_type": "markdown",
   "metadata": {},
   "source": [
    "## Python function\n",
    "\n",
    "The function below rotates a line (defined by its trend and plunge) about a rotation axis (defined by its trend and plunge), an amount $\\omega$."
   ]
  },
  {
   "cell_type": "code",
   "execution_count": 1,
   "metadata": {},
   "outputs": [],
   "source": [
    "# this makes visible our functions folder\n",
    "import sys, os\n",
    "sys.path.append(os.path.abspath(\"../functions\"))"
   ]
  },
  {
   "cell_type": "code",
   "execution_count": 2,
   "metadata": {},
   "outputs": [],
   "source": [
    "# rotate function: this function is also in functions/rotate.py\n",
    "\n",
    "import numpy as np\n",
    "from sph_to_cart import sph_to_cart\n",
    "from cart_to_sph import cart_to_sph\n",
    "\n",
    "def rotate(rtrd,rplg,rot,trd,plg,ans0):\n",
    "\t\"\"\"\n",
    "\trotate rotates a line by performing a coordinate\n",
    "\ttransformation\n",
    "\t\n",
    "\trtrd = trend of rotation axis\n",
    "\trplg = plunge of rotation axis\n",
    "\trot = magnitude of rotation\n",
    "\ttrd = trend of the line to be rotated\n",
    "\tplg = plunge of the line to be rotated\n",
    "\tans0 = A character indicating whether the line \n",
    "\t\tto be rotated is an axis (ans0 = \"a\") or a \n",
    "\t\tvector (ans0 = \"v\")\n",
    "\ttrdr and plgr are the trend and plunge of the\n",
    "\t\trotated line\n",
    "\t\n",
    "\tNOTE: All angles are in radians\n",
    "\t\n",
    "\tPython function translated from the Matlab function\n",
    "\tRotate in Allmendinger et al. (2012)\n",
    "\t\"\"\"\n",
    "\t# allocate some arrays\n",
    "\ta = np.zeros((3,3)) #Transformation matrix\n",
    "\traxis = np.zeros(3) #Dir. cosines of rotation axis\n",
    "\tline = np.zeros(3)\t#Dir. cosines of line to be rotated\n",
    "\tliner = np.zeros(3) #Dir. cosines of rotated line\n",
    "\t\n",
    "\t# convert rotation axis to direction cosines\n",
    "\traxis[0] , raxis[1], raxis[2] = sph_to_cart(rtrd,rplg)\n",
    "\t\n",
    "\t# calculate the transformation matrix a for the rotation\n",
    "\tx = 1.0 - np.cos(rot)\n",
    "\tsinrot = np.sin(rot)\n",
    "\tcosrot = np.cos(rot)\n",
    "\ta[0,0] = cosrot + raxis[0]*raxis[0]*x\n",
    "\ta[0,1] = -raxis[2]*sinrot + raxis[0]*raxis[1]*x\n",
    "\ta[0,2] = raxis[1]*sinrot + raxis[0]*raxis[2]*x\n",
    "\ta[1,0] = raxis[2]*sinrot + raxis[1]*raxis[0]*x\n",
    "\ta[1,1] = cosrot + raxis[1]*raxis[1]*x\n",
    "\ta[1,2] = -raxis[0]*sinrot + raxis[1]*raxis[2]*x\n",
    "\ta[2,0] = -raxis[1]*sinrot + raxis[2]*raxis[0]*x\n",
    "\ta[2,1] = raxis[0]*sinrot + raxis[2]*raxis[1]*x\n",
    "\ta[2,2] = cosrot + raxis[2]*raxis[2]*x\n",
    "\t\n",
    "\t# convert trend and plunge of line to be rotated into\n",
    "\t# direction cosines\n",
    "\tline[0] , line[1], line[2] = sph_to_cart(trd,plg)\n",
    "\t\n",
    "\t# perform the coordinate transformation\n",
    "\tfor i in range(3):\n",
    "\t\tfor j in range(3):\n",
    "\t\t\tliner[i] = a[i,j]*line[j] + liner[i]\n",
    "\t\n",
    "\t# convert to lower hemisphere projection if axis \n",
    "\tif liner[2] < 0.0 and ans0 == 'a':\n",
    "\t\tliner *= -1.0\n",
    "\t\t\n",
    "\t# convert from direction cosines back to trend and plunge\n",
    "\ttrdr , plgr = cart_to_sph(liner[0], liner[1], liner[2])\n",
    "\t\n",
    "\treturn trdr, plgr"
   ]
  },
  {
   "cell_type": "markdown",
   "metadata": {},
   "source": [
    "## Application\n",
    "\n",
    "Let's solve this problem from Leyshon and Lisle (1996): An overturned bed oriented 305/60 (RHR) has sedimentary lineations which indicate the palaeocurrent direction. These pitch at 60NW, with the current flowing up the plunge. Calculate the original trend of the paleocurrents.\n",
    "\n",
    "To solve this problem, we will do two rotations:\n",
    "1. A clockwise rotation of the strike line of the bed about the pole of the bed, an amount equal to the pitch of the lineation. This will give us the orientation of the lineation.\n",
    "2. A clockwise rotation of the lineation about the strike line of the plane, an amount equal to 180 - dip (since the plane is overturned). This will give us the pre-tilted orientation of the lineation."
   ]
  },
  {
   "cell_type": "code",
   "execution_count": 3,
   "metadata": {},
   "outputs": [
    {
     "name": "stdout",
     "output_type": "stream",
     "text": [
      "Trend/plunge of the lineation:345.9/48.6\n",
      "Pre-tilted trend/plunge of the lineation:245.0/0.0\n",
      "Trend of the paleocurrent: 65.0\n"
     ]
    }
   ],
   "source": [
    "# import other functions\n",
    "from pole import pole_from_plane\n",
    "from zero_twopi import zero_twopi\n",
    "\n",
    "# strike and dip of the bed in radians\n",
    "strike, dip = np.radians([305, 60])\n",
    "\n",
    "# pole to the bed\n",
    "p_trd, p_plg = pole_from_plane(strike, dip)\n",
    "\n",
    "# strike line in radians\n",
    "s_trd, s_plg = strike, 0\n",
    "\n",
    "# to determine the orientation of the lineation from its pitch\n",
    "# rotate the strike line clockwise about the pole\n",
    "# an amount equal to the pitch of the lineation\n",
    "rot = np.radians(60) # amount of rotation in radians\n",
    "l_trd, l_plg = rotate(p_trd, p_plg, rot, s_trd, s_plg, 'a')\n",
    "print(f\"Trend/plunge of the lineation:{np.degrees(l_trd):.1f}/{np.degrees(l_plg):.1f}\")\n",
    "\n",
    "# now we need to rotate the lineation about the strike line to its pre-tilted orientation\n",
    "# the amount of rotation is 180 - dip = 120, and the sense of rotation is clockwise\n",
    "rot = np.radians(120) # amount of rotation in radians\n",
    "lr_trd, lr_plg = rotate(s_trd, s_plg, rot, l_trd, l_plg, 'a')\n",
    "print(f\"Pre-tilted trend/plunge of the lineation:{np.degrees(lr_trd):.1f}/{np.degrees(lr_plg):.1f}\")\n",
    "\n",
    "# the current flows up the plunge, so the trend of the paleocurrent is:\n",
    "pal_trd = zero_twopi(lr_trd + np.pi)\n",
    "print(f\"Trend of the paleocurrent: {np.degrees(pal_trd):.1f}\")"
   ]
  },
  {
   "cell_type": "markdown",
   "metadata": {},
   "source": [
    "In the next notebook, we will see that rotations are very handy to draw great and small circles on stereonets."
   ]
  }
 ],
 "metadata": {
  "kernelspec": {
   "display_name": "base",
   "language": "python",
   "name": "python3"
  },
  "language_info": {
   "codemirror_mode": {
    "name": "ipython",
    "version": 3
   },
   "file_extension": ".py",
   "mimetype": "text/x-python",
   "name": "python",
   "nbconvert_exporter": "python",
   "pygments_lexer": "ipython3",
   "version": "3.11.9"
  }
 },
 "nbformat": 4,
 "nbformat_minor": 2
}
